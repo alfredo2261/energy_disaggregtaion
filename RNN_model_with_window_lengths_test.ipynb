{
 "cells": [
  {
   "cell_type": "code",
   "execution_count": 1,
   "metadata": {
    "scrolled": true
   },
   "outputs": [],
   "source": [
    "import numpy as np\n",
    "import torch\n",
    "import torch.nn as nn\n",
    "import torch.optim as optim\n",
    "import matplotlib.pyplot as plt\n",
    "from sklearn import datasets\n",
    "import torchvision\n",
    "from torch.utils.data import Dataset, DataLoader, ConcatDataset\n",
    "import math\n",
    "import torch.nn.functional as F\n",
    "import torchvision.transforms as transforms\n",
    "import itertools\n",
    "import random\n",
    "from torch.nn.utils.rnn import pad_sequence\n",
    "import wandb\n",
    "import pandas as pd\n",
    "import gc\n",
    "from opacus import PrivacyEngine\n",
    "from opacus.layers import DPLSTM\n",
    "import time\n",
    "from sklearn import metrics\n",
    "import xgboost"
   ]
  },
  {
   "cell_type": "code",
   "execution_count": 2,
   "metadata": {},
   "outputs": [
    {
     "name": "stderr",
     "output_type": "stream",
     "text": [
      "Failed to detect the name of this notebook, you can set it manually with the WANDB_NOTEBOOK_NAME environment variable to enable code saving.\n",
      "\u001b[34m\u001b[1mwandb\u001b[0m: Currently logged in as: \u001b[33mnilm\u001b[0m (use `wandb login --relogin` to force relogin)\n"
     ]
    },
    {
     "data": {
      "text/plain": [
       "True"
      ]
     },
     "execution_count": 2,
     "metadata": {},
     "output_type": "execute_result"
    }
   ],
   "source": [
    "wandb.login()"
   ]
  },
  {
   "cell_type": "code",
   "execution_count": 3,
   "metadata": {},
   "outputs": [
    {
     "data": {
      "text/plain": [
       "True"
      ]
     },
     "execution_count": 3,
     "metadata": {},
     "output_type": "execute_result"
    }
   ],
   "source": [
    "torch.cuda.is_available()"
   ]
  },
  {
   "cell_type": "code",
   "execution_count": 4,
   "metadata": {},
   "outputs": [],
   "source": [
    "gc.collect()\n",
    "torch.cuda.empty_cache()"
   ]
  },
  {
   "cell_type": "code",
   "execution_count": 5,
   "metadata": {},
   "outputs": [
    {
     "data": {
      "text/plain": [
       "'1.7.1'"
      ]
     },
     "execution_count": 5,
     "metadata": {},
     "output_type": "execute_result"
    }
   ],
   "source": [
    "torch.__version__"
   ]
  },
  {
   "cell_type": "code",
   "execution_count": 6,
   "metadata": {},
   "outputs": [],
   "source": [
    "device = torch.device(\"cuda:0\" if torch.cuda.is_available() else \"cpu\")"
   ]
  },
  {
   "cell_type": "code",
   "execution_count": 7,
   "metadata": {},
   "outputs": [],
   "source": [
    "def get_home_ids(df):\n",
    "    return df['dataid'].unique()"
   ]
  },
  {
   "cell_type": "code",
   "execution_count": 8,
   "metadata": {},
   "outputs": [],
   "source": [
    "def load_all_houses_with_device(path, appliance):\n",
    "        \n",
    "    df = pd.read_csv(path, usecols = ['dataid', 'grid', 'solar', 'solar2', str(appliance)])\n",
    "    \n",
    "    size = len(df.dataid)\n",
    "    dataids = get_home_ids(df)\n",
    "    \n",
    "    columns = {'dataid':df.dataid,\n",
    "               'grid':df.grid,\n",
    "               'solar':df.solar,\n",
    "               'solar2':df.solar2,\n",
    "                str(appliance):df[str(appliance)]}\n",
    "    \n",
    "    df = pd.DataFrame(columns)\n",
    "    \n",
    "    df['net_power'] = df.fillna(0).grid + df.fillna(0).solar + df.fillna(0).solar2\n",
    "    df = df.fillna(0)\n",
    "    df['net_power'] = np.clip(df['net_power']*1000, a_min = 0, a_max = None)\n",
    "    df[str(appliance)] = np.clip(df[str(appliance)]*1000, a_min = 0, a_max = None)\n",
    "    df['appliance_power'] = df[str(appliance)]\n",
    "    df = df.drop(columns = ['grid', 'solar', 'solar2', str(appliance)])\n",
    "    df['appliance_power'] = df['appliance_power'].values.astype('float32')\n",
    "    df['net_power'] = df['net_power'].values.astype('float32')\n",
    "    \n",
    "    for house in dataids:\n",
    "        house_of_interest = df.loc[df['dataid'] == house]\n",
    "        if max(house_of_interest['appliance_power']) - min(house_of_interest['appliance_power']) < 60:\n",
    "            df = df[df['dataid'] != house]\n",
    "    \n",
    "    return df"
   ]
  },
  {
   "cell_type": "code",
   "execution_count": 9,
   "metadata": {},
   "outputs": [],
   "source": [
    "def normalize_x(x_sequence):\n",
    "    std = np.std(x_sequence)\n",
    "    x_sequence = (x_sequence - np.mean(x_sequence))/std    \n",
    "    \n",
    "    return x_sequence"
   ]
  },
  {
   "cell_type": "code",
   "execution_count": null,
   "metadata": {},
   "outputs": [],
   "source": []
  },
  {
   "cell_type": "code",
   "execution_count": 10,
   "metadata": {},
   "outputs": [],
   "source": [
    "def normalize_y(y_sequence):\n",
    "    return (y_sequence - np.min(y_sequence))/(np.max(y_sequence) - np.min(y_sequence))"
   ]
  },
  {
   "cell_type": "code",
   "execution_count": 11,
   "metadata": {},
   "outputs": [],
   "source": [
    "def create_activations(path, appliance, window_length, buildings):\n",
    "    data = load_all_houses_with_device(path, appliance)\n",
    "    \n",
    "    data = [data.loc[data['dataid'] == i] for i in buildings]\n",
    "        \n",
    "    data = pd.concat(data)\n",
    "    \n",
    "    data_size = len(data)\n",
    "    remainder = data_size % window_length\n",
    "    \n",
    "    y_data = data['appliance_power'].values\n",
    "    x_data = data['net_power'].values\n",
    "    \n",
    "    if remainder != 0:\n",
    "        y_data = np.append(y_data, np.zeros(window_length - remainder))\n",
    "        x_data = np.append(x_data, np.zeros(window_length - remainder))\n",
    "    \n",
    "    y_data = np.reshape(y_data, (-1, window_length))\n",
    "    x_data = np.reshape(x_data, (-1, window_length))\n",
    "    \n",
    "    data_size = len(y_data)\n",
    "    \n",
    "    y_data = y_data[0:data_size-1]\n",
    "    x_data = x_data[0:data_size-1]\n",
    "    \n",
    "    for i in range(len(x_data)):\n",
    "        x_data[i] = normalize_x(x_data[i])\n",
    "    \n",
    "    nan_tracker = []\n",
    "    \n",
    "    for i in range(len(y_data)):\n",
    "        if max(y_data[i]) - min(y_data[i]) == 0:\n",
    "            nan_tracker.append(i)\n",
    "        elif max(y_data[i]) - min(y_data[i]) < 30:\n",
    "            nan_tracker.append(i)\n",
    "        \n",
    "    y_data = [elem for i, elem in enumerate(y_data) if i not in nan_tracker]\n",
    "    x_data = [elem for i, elem in enumerate(x_data) if i not in nan_tracker]\n",
    "    \n",
    "    for i in range(len(y_data)):\n",
    "        y_data[i] = normalize_y(y_data[i])\n",
    "    \n",
    "    return np.array(x_data, dtype = np.float32), np.array(y_data, dtype = np.float32)"
   ]
  },
  {
   "cell_type": "code",
   "execution_count": null,
   "metadata": {},
   "outputs": [],
   "source": []
  },
  {
   "cell_type": "code",
   "execution_count": 12,
   "metadata": {},
   "outputs": [],
   "source": [
    "#column 2 is air1, NN is trained for air conditioner\n",
    "#column 5 is washing machine\n",
    "class PecanStreetDataset_train(Dataset):\n",
    "    \n",
    "    def __init__(self, path, appliance, window_length, buildings):\n",
    "        \n",
    "        self.x, self.y = create_activations(\n",
    "            path,\n",
    "            appliance,\n",
    "            window_length,\n",
    "            buildings)\n",
    "        \n",
    "        self.n_samples = self.x.shape[0]\n",
    "                \n",
    "        self.x = torch.from_numpy(self.x)\n",
    "        \n",
    "        self.y = torch.from_numpy(self.y)\n",
    "        \n",
    "    def __getitem__(self, index):\n",
    "        return self.x[index], self.y[index]\n",
    "    \n",
    "    def __len__(self):\n",
    "        return self.n_samples"
   ]
  },
  {
   "cell_type": "code",
   "execution_count": 13,
   "metadata": {},
   "outputs": [],
   "source": [
    "class PecanStreetDataset_test(Dataset):\n",
    "    \n",
    "    def __init__(self, path, appliance, window_length, buildings):\n",
    "        \n",
    "        self.x, self.y = create_activations(\n",
    "            path,\n",
    "            appliance,\n",
    "            window_length,\n",
    "            buildings)\n",
    "\n",
    "        self.n_samples = self.x.shape[0]\n",
    "        \n",
    "        self.x = self.x[int(0.5*self.n_samples):]\n",
    "        self.y = self.y[int(0.5*self.n_samples):]\n",
    "\n",
    "        self.n_samples = self.x.shape[0]\n",
    "\n",
    "        self.x = torch.from_numpy(self.x)\n",
    "        \n",
    "        self.y = torch.from_numpy(self.y)\n",
    "        \n",
    "    def __getitem__(self, index):\n",
    "        return self.x[index], self.y[index]\n",
    "    \n",
    "    def __len__(self):\n",
    "        return self.n_samples"
   ]
  },
  {
   "cell_type": "code",
   "execution_count": 14,
   "metadata": {},
   "outputs": [],
   "source": [
    "class PecanStreetDataset_val(Dataset):\n",
    "    \n",
    "    def __init__(self, path, appliance, window_length, buildings):\n",
    "\n",
    "        self.x, self.y = create_activations(\n",
    "            path,\n",
    "            appliance,\n",
    "            window_length,\n",
    "            buildings)\n",
    "\n",
    "        self.n_samples = self.x.shape[0]\n",
    "        \n",
    "        self.x = self.x[0:int(0.5*self.n_samples)]\n",
    "        self.y = self.y[0:int(0.5*self.n_samples)]\n",
    "        \n",
    "        self.n_samples = self.x.shape[0]\n",
    "        \n",
    "        self.x = torch.from_numpy(self.x)\n",
    "        \n",
    "        self.y = torch.from_numpy(self.y)\n",
    "        \n",
    "    def __getitem__(self, index):\n",
    "        return self.x[index], self.y[index]\n",
    "    \n",
    "    def __len__(self):\n",
    "        return self.n_samples"
   ]
  },
  {
   "cell_type": "code",
   "execution_count": 15,
   "metadata": {},
   "outputs": [],
   "source": [
    "class LSTM(nn.Module):\n",
    "    def __init__(self, in_channels, out_channels, kernel_size, hidden_size_1, hidden_size_2, fc1, fc2):\n",
    "        super(LSTM, self).__init__()\n",
    "        \n",
    "        self.conv1 = nn.Conv1d(in_channels, out_channels, kernel_size, padding=int((kernel_size-1)/2))\n",
    "        #self.conv2 = nn.Conv1d(out_channels, out_channels_2, kernel_size, padding=int((kernel_size-1)/2))\n",
    "        \n",
    "        self.lstm1 = nn.LSTM(out_channels, hidden_size_1, num_layers = 2, batch_first = True, dropout = 0.5, bidirectional = True)\n",
    "        self.lstm2 = nn.LSTM(2*hidden_size_1, hidden_size_2, num_layers = 2, batch_first = True, dropout = 0.5, bidirectional = True)\n",
    "        \n",
    "        self.linear1 = nn.Linear(2*hidden_size_2, fc1)\n",
    "        self.linear2 = nn.Linear(fc1, fc2)\n",
    "        self.linear3 = nn.Linear(fc2, in_channels)\n",
    "        \n",
    "        self.sigmoid = nn.Sigmoid()\n",
    "        \n",
    "        #self.maxpool = nn.MaxPool1d(kernel_size = kernel_size_2, stride = 1, padding = int((kernel_size_2-1)/2))\n",
    "        \n",
    "        #self.dropout = nn.Dropout(p=0.5)\n",
    "        \n",
    "    def forward(self, x):\n",
    "        #print(\"shape0: \", x.shape)\n",
    "        out = x.unsqueeze(dim=1) #This unsqueeze is needed to create the correct shape for conv1 layer\n",
    "        out = self.conv1(out)\n",
    "        out = self.sigmoid(out)\n",
    "        #out = self.maxpool(out)\n",
    "        #print(\"shape2: \", out.shape)\n",
    "        #out = self.relu(out)\n",
    "        #out = self.sigmoid(out)\n",
    "        #out = self.maxpool(out)\n",
    "        #out = self.conv2(out)\n",
    "        #out = self.relu(out)\n",
    "        #out = self.dropout(out)\n",
    "        #print(\"shape3: \", out.shape)\n",
    "        #out, _ = self.lstm1(out)\n",
    "        out = out.transpose(1, 2).contiguous()\n",
    "        #print(\"shape3: \", out.shape)\n",
    "        out, _ = self.lstm1(out)\n",
    "        out, _ = self.lstm2(out)\n",
    "        out = self.sigmoid(out)\n",
    "        out = self.linear1(out)\n",
    "        out = self.sigmoid(out)\n",
    "        out = self.linear2(out)\n",
    "        out = self.sigmoid(out)\n",
    "        out = self.linear3(out)\n",
    "        #print(\"shape4: \", out.shape)\n",
    "        out = out.squeeze()\n",
    "        #print(\"shape5: \", out.shape)\n",
    "        return out"
   ]
  },
  {
   "cell_type": "code",
   "execution_count": null,
   "metadata": {},
   "outputs": [],
   "source": []
  },
  {
   "cell_type": "code",
   "execution_count": null,
   "metadata": {},
   "outputs": [],
   "source": []
  },
  {
   "cell_type": "code",
   "execution_count": 58,
   "metadata": {},
   "outputs": [],
   "source": [
    "config = dict(\n",
    "    epochs = 150,\n",
    "    batch_size = 4,\n",
    "    learning_rate = 0.0001,\n",
    "    in_channels = 1,\n",
    "    out_channels = 16,\n",
    "    kernel_size = 7,\n",
    "    hidden_size_1 = 32,\n",
    "    hidden_size_2 = 100,\n",
    "    fc1 = 128,\n",
    "    fc2 = 64)"
   ]
  },
  {
   "cell_type": "code",
   "execution_count": null,
   "metadata": {},
   "outputs": [],
   "source": []
  },
  {
   "cell_type": "code",
   "execution_count": 71,
   "metadata": {},
   "outputs": [],
   "source": [
    "def model_pipeline(hyperparameters, train_months, test_month, path, appliance, window_length, train_buildings, test_buildings):\n",
    "    \n",
    "    with wandb.init(project = \"Overfit_TrainBldg792_TestBldg5192_150epochs_4batch_1Conv_2BiLSTM_w_dropout\", config = hyperparameters):\n",
    "        wandb.run.name = \"CyclicLR_base0.0001_max0.001_weightdecay0_kern:7_outchan:16_4sigmoid_0maxpool_\"+str(window_length)\n",
    "        config = wandb.config\n",
    "        \n",
    "        #ids = get_house_ids_of_interest(path, appliance)\n",
    "        #ids = [792, 950, 1417, 3488, 3517, 4414, 6594]\n",
    "        #ids = [792]\n",
    "        \n",
    "        #lengths = [85320, 132480, 132480, 132480, 132480, 132480, 132480]\n",
    "        \n",
    "        model, criterion, optimizer = make_model(config)\n",
    "        \n",
    "        print(model)\n",
    "        \n",
    "        wandb.watch(model, criterion, log = \"all\", log_freq = 10)\n",
    "    \n",
    "        example_ct = 0\n",
    "        batch_ct = 0\n",
    "        all_epochs = 0\n",
    "        #all step_size=30 tests had gamma=0.5\n",
    "        scheduler = torch.optim.lr_scheduler.CyclicLR(optimizer, base_lr=.0001, max_lr=0.001, cycle_momentum=False, verbose=True)\n",
    "            \n",
    "        validation_loader, test_loader = make_test_val_data(config, test_month, appliance, window_length, test_buildings)\n",
    "            \n",
    "        #for i in range(len(ids)):\n",
    "        time_log = time.time()\n",
    "        train_loader = make_train_data(config, train_months, appliance, window_length, train_buildings)\n",
    "        model, example_ct, batch_ct, all_epochs = train(\n",
    "                model,\n",
    "                train_loader,\n",
    "                validation_loader,\n",
    "                criterion,\n",
    "                optimizer,\n",
    "                config,\n",
    "                example_ct,\n",
    "                batch_ct,\n",
    "                all_epochs,\n",
    "                scheduler)\n",
    "                \n",
    "                #total_loss += per_house_total_loss\n",
    "                #total_val_loss += per_house_val_loss\n",
    "                #total_training_r2 += training_r2\n",
    "                \n",
    "        print(\"Time to train on one home: \", time.time() - time_log)\n",
    "            \n",
    "            #train_log(total_loss / len(ids), total_val_loss / len(ids), all_epochs, r)\n",
    "            \n",
    "        test(model, test_loader, criterion)\n",
    "    \n",
    "    return model"
   ]
  },
  {
   "cell_type": "code",
   "execution_count": null,
   "metadata": {},
   "outputs": [],
   "source": []
  },
  {
   "cell_type": "code",
   "execution_count": 18,
   "metadata": {},
   "outputs": [],
   "source": [
    "def make_train_data(config, train_data, appliance, window_length, train_buildings):\n",
    "    \n",
    "    root_path = r\"C:\\Users\\aar245.CORNELL\\Desktop\\Fall2021_new\\ithaca_Real_2019\\1min_real_\"\n",
    "\n",
    "    train_dataset = PecanStreetDataset_train(str(root_path)+str(train_data)+\"2019.csv\", appliance, window_length, train_buildings)\n",
    "    \n",
    "    train_loader = DataLoader(dataset = train_dataset,\n",
    "                                batch_size = config.batch_size,\n",
    "                                shuffle = True,\n",
    "                                num_workers = 0)\n",
    "    \n",
    "    return train_loader"
   ]
  },
  {
   "cell_type": "code",
   "execution_count": 19,
   "metadata": {},
   "outputs": [],
   "source": [
    "def make_test_val_data(config, test_data, appliance, window_length, test_buildings):\n",
    "    \n",
    "    root_path = r\"C:\\Users\\aar245.CORNELL\\Desktop\\Fall2021_new\\ithaca_Real_2019\\1min_real_\"\n",
    "    \n",
    "    validation_dataset = PecanStreetDataset_val(str(root_path)+str(test_data)+\"2019.csv\", appliance, window_length, test_buildings)\n",
    "    test_dataset = PecanStreetDataset_test(str(root_path)+str(test_data)+\"2019.csv\", appliance, window_length, test_buildings)\n",
    "    \n",
    "    validation_loader = DataLoader(dataset = validation_dataset,\n",
    "                                  batch_size = config.batch_size,\n",
    "                                  shuffle = False,\n",
    "                                  num_workers = 0)\n",
    "    \n",
    "    test_loader = DataLoader(dataset = test_dataset,\n",
    "                            batch_size = config.batch_size,\n",
    "                            shuffle = False,\n",
    "                            num_workers = 0)\n",
    "    \n",
    "    return validation_loader, test_loader"
   ]
  },
  {
   "cell_type": "code",
   "execution_count": 59,
   "metadata": {},
   "outputs": [],
   "source": [
    "def make_model(config):\n",
    "    \n",
    "    model = LSTM(\n",
    "        config.in_channels,\n",
    "        config.out_channels,\n",
    "        config.kernel_size,\n",
    "        config.hidden_size_1,\n",
    "        config.hidden_size_2,\n",
    "        config.fc1,\n",
    "        config.fc2).to(device)\n",
    "    \n",
    "    criterion = nn.MSELoss()\n",
    "    \n",
    "    optimizer = torch.optim.Adam(\n",
    "        model.parameters(),\n",
    "        lr = config.learning_rate,\n",
    "        weight_decay = 0)\n",
    "    \n",
    "    return model, criterion, optimizer"
   ]
  },
  {
   "cell_type": "code",
   "execution_count": 21,
   "metadata": {},
   "outputs": [],
   "source": [
    "def train(model, loader, validation_loader, criterion, optimizer, config, example_ct, batch_ct, all_epochs, scheduler):#, privacy_engine):\n",
    "    home_total_loss = 0.0\n",
    "    total_validation_loss = 0.0\n",
    "    #total_home_r2 = 0.0\n",
    "    for epoch in (range(config.epochs)):\n",
    "        model.train()\n",
    "        epoch_total_loss = 0.0\n",
    "        epoch_predictions = []\n",
    "        epoch_true_vals = []\n",
    "        epoch_r2 = 0.0\n",
    "        batch_number = 0\n",
    "        all_epochs += 1\n",
    "        for _, (features, labels) in enumerate(loader):\n",
    "            train_predictions, train_true_vals, loss = train_batch(features, labels, model, optimizer, criterion)\n",
    "            epoch_total_loss += float(loss.item())\n",
    "            epoch_predictions.append(train_predictions)\n",
    "            epoch_true_vals.append(train_true_vals)\n",
    "            example_ct += len(features)\n",
    "            batch_ct += 1\n",
    "            batch_number += 1\n",
    "        \n",
    "        scheduler.step()\n",
    "        \n",
    "        #validation process\n",
    "        model.eval()\n",
    "        with torch.no_grad():\n",
    "            validation_total_loss = 0.0\n",
    "            val_batch = 0\n",
    "        \n",
    "        for features, labels in validation_loader:\n",
    "            features, labels = features.to(device), labels.to(device)\n",
    "\n",
    "            outputs = model(features)\n",
    "            loss = criterion(outputs, labels)\n",
    "\n",
    "            validation_total_loss += float(loss.item())\n",
    "            val_batch += 1\n",
    "            del features, labels\n",
    "        \n",
    "        home_total_loss += epoch_total_loss / batch_number\n",
    "        total_validation_loss += validation_total_loss / val_batch\n",
    "        epoch_predictions = [item for sublist in epoch_predictions for item in sublist]\n",
    "        epoch_true_vals = [item for sublist in epoch_true_vals for item in sublist]\n",
    "        \n",
    "        tracker = 0\n",
    "        for i in range(len(epoch_predictions)):\n",
    "            if len(epoch_true_vals[i]) != 1 and len(epoch_predictions[i]) != 1:\n",
    "                for j in range(len(epoch_predictions[i])):\n",
    "                    if len(epoch_true_vals[i][j].shape) != 0 and len(epoch_predictions[i][j].shape) != 0:\n",
    "                        epoch_r2 += metrics.r2_score(epoch_true_vals[i][j], epoch_predictions[i][j])\n",
    "                        tracker += 1\n",
    "        \n",
    "        wandb.log({\n",
    "            'Per_House_Training_Loss': epoch_total_loss / batch_number,\n",
    "            'Per_House_Validation_Loss': validation_total_loss / val_batch,\n",
    "            'Per_House_Training_R2': epoch_r2 / tracker},\n",
    "            step = example_ct)\n",
    "        #'train_epsilon': train_epsilon,\n",
    "        #'train_alpha': train_best_alpha},\n",
    "        #step = example_ct)\n",
    "        \n",
    "        print(f\"Loss after \" + str(example_ct).zfill(5) + f\" batches: {epoch_total_loss / batch_number:.4f}\")\n",
    "\n",
    "        #train_log(epoch_total_loss / batch_number,\n",
    "        #        validation_total_loss / val_batch,\n",
    "        #        example_ct,\n",
    "        #        all_epochs)\n",
    "        \n",
    "    return model, example_ct, batch_ct, all_epochs"
   ]
  },
  {
   "cell_type": "code",
   "execution_count": 22,
   "metadata": {},
   "outputs": [],
   "source": [
    "def train_batch(features, labels, model, optimizer, criterion):\n",
    "    train_predictions = []\n",
    "    train_true_vals = []\n",
    "    \n",
    "    features = features.to(device)\n",
    "    labels = labels.to(device)\n",
    "    \n",
    "    outputs = model(features)\n",
    "    loss = criterion(outputs, labels)\n",
    "    \n",
    "    train_predictions.append(outputs.cpu().detach().numpy())\n",
    "    train_true_vals.append(labels.cpu().detach().numpy())\n",
    "    \n",
    "    optimizer.zero_grad()\n",
    "    loss.backward()\n",
    "    \n",
    "    optimizer.step()\n",
    "    del features, labels\n",
    "    \n",
    "    return train_predictions, train_true_vals, loss"
   ]
  },
  {
   "cell_type": "code",
   "execution_count": 23,
   "metadata": {},
   "outputs": [],
   "source": [
    "def train_log(loss, val_loss, example_ct, epoch):\n",
    "    loss = float(loss)\n",
    "    val_loss = float(val_loss)\n",
    "    \n",
    "    wandb.log({\n",
    "        \"Rounds_on_all_homes\": epoch,\n",
    "        \"All_Homes_Training_Loss\": loss,\n",
    "        \"All_Homes_Validation_Loss\": val_loss})\n",
    "        #\"All_Homes_Training_R2\": training_r2})\n",
    "              #step = example_ct)\n",
    "    print(f\"Loss after \" + str(example_ct).zfill(5) + f\" total epochs: {loss:.4f}\")"
   ]
  },
  {
   "cell_type": "code",
   "execution_count": 24,
   "metadata": {},
   "outputs": [],
   "source": [
    "def test(model, test_loader, criterion):#, privacy_engine):\n",
    "    model.eval()\n",
    "    with torch.no_grad():\n",
    "        total_loss = 0.0\n",
    "        total_steps = 0\n",
    "        r_squared = 0.0\n",
    "        predictions = []\n",
    "        true_vals = []\n",
    "        for features, labels in test_loader:\n",
    "            features, labels = features.to(device), labels.to(device)\n",
    "            prediction = model(features)\n",
    "            loss = criterion(prediction, labels)\n",
    "            total_loss += float(loss.item())\n",
    "            total_steps += 1\n",
    "            #r_squared += float(metrics.r2_score(labels.cpu().detach().numpy(), prediction.cpu().detach().numpy()))\n",
    "            predictions.append(prediction.cpu().detach().numpy())\n",
    "            true_vals.append(labels.cpu().detach().numpy())\n",
    "            del features, labels\n",
    "        \n",
    "        tracker = 0\n",
    "        for i in range(len(predictions)):\n",
    "            if len(true_vals[i]) != 1 and len(predictions[i]) != 1:\n",
    "                for j in range(len(predictions[i])):\n",
    "                    if len(true_vals[i][j].shape) != 0 and len(predictions[i][j].shape) != 0:\n",
    "                        r_squared += metrics.r2_score(true_vals[i][j], predictions[i][j])\n",
    "                        tracker += 1\n",
    "        \n",
    "        wandb.log({\n",
    "            'Test_MSE': total_loss / total_steps,\n",
    "            'Test_Mean_R2_Value': r_squared / tracker})\n",
    "   # if privacy_engine:\n",
    "        #epsilon, best_alpha = privacy_engine.get_privacy_spent()\n",
    "        #print(\"Testing epsilon: \", epsilon)\n",
    "        #print(\"Testing alpha: \", best_alpha)\n",
    "    wandb.save(\"model_final.h5\")"
   ]
  },
  {
   "cell_type": "code",
   "execution_count": 25,
   "metadata": {},
   "outputs": [],
   "source": [
    "#get_house_ids_of_interest(path, 'air1')"
   ]
  },
  {
   "cell_type": "code",
   "execution_count": 26,
   "metadata": {},
   "outputs": [],
   "source": [
    "path = r\"C:\\Users\\aar245.CORNELL\\Desktop\\Fall2021_new\\ithaca_Real_2019\\1min_real_may_june_july2019.csv\""
   ]
  },
  {
   "cell_type": "code",
   "execution_count": 27,
   "metadata": {},
   "outputs": [],
   "source": [
    "#test_lengths = [100, 200, 250, 300, 350, 400, 450, 500, 550, 600]\n",
    "test_lengths = [15]"
   ]
  },
  {
   "cell_type": "code",
   "execution_count": null,
   "metadata": {},
   "outputs": [],
   "source": []
  },
  {
   "cell_type": "code",
   "execution_count": 28,
   "metadata": {},
   "outputs": [],
   "source": [
    "#batch_size = [2, 4, 10, 15, 20, 25, 30, 50]"
   ]
  },
  {
   "cell_type": "code",
   "execution_count": 104,
   "metadata": {
    "scrolled": true
   },
   "outputs": [
    {
     "name": "stderr",
     "output_type": "stream",
     "text": [
      "\u001b[34m\u001b[1mwandb\u001b[0m: wandb version 0.12.4 is available!  To upgrade, please run:\n",
      "\u001b[34m\u001b[1mwandb\u001b[0m:  $ pip install wandb --upgrade\n"
     ]
    },
    {
     "data": {
      "text/html": [
       "\n",
       "                Tracking run with wandb version 0.12.2<br/>\n",
       "                Syncing run <strong style=\"color:#cdcd00\">lively-terrain-19</strong> to <a href=\"https://wandb.ai\" target=\"_blank\">Weights & Biases</a> <a href=\"https://docs.wandb.com/integrations/jupyter.html\" target=\"_blank\">(Documentation)</a>.<br/>\n",
       "                Project page: <a href=\"https://wandb.ai/nilm/Overfit_TrainBldg792_TestBldg5192_150epochs_4batch_1Conv_2BiLSTM_w_dropout\" target=\"_blank\">https://wandb.ai/nilm/Overfit_TrainBldg792_TestBldg5192_150epochs_4batch_1Conv_2BiLSTM_w_dropout</a><br/>\n",
       "                Run page: <a href=\"https://wandb.ai/nilm/Overfit_TrainBldg792_TestBldg5192_150epochs_4batch_1Conv_2BiLSTM_w_dropout/runs/8tzd23w8\" target=\"_blank\">https://wandb.ai/nilm/Overfit_TrainBldg792_TestBldg5192_150epochs_4batch_1Conv_2BiLSTM_w_dropout/runs/8tzd23w8</a><br/>\n",
       "                Run data is saved locally in <code>C:\\Users\\aar245.CORNELL\\Desktop\\Fall2021_new\\wandb\\run-20211012_095507-8tzd23w8</code><br/><br/>\n",
       "            "
      ],
      "text/plain": [
       "<IPython.core.display.HTML object>"
      ]
     },
     "metadata": {},
     "output_type": "display_data"
    },
    {
     "name": "stdout",
     "output_type": "stream",
     "text": [
      "LSTM(\n",
      "  (conv1): Conv1d(1, 16, kernel_size=(7,), stride=(1,), padding=(3,))\n",
      "  (lstm1): LSTM(16, 32, num_layers=2, batch_first=True, dropout=0.5, bidirectional=True)\n",
      "  (lstm2): LSTM(64, 100, num_layers=2, batch_first=True, dropout=0.5, bidirectional=True)\n",
      "  (linear1): Linear(in_features=200, out_features=128, bias=True)\n",
      "  (linear2): Linear(in_features=128, out_features=64, bias=True)\n",
      "  (linear3): Linear(in_features=64, out_features=1, bias=True)\n",
      "  (sigmoid): Sigmoid()\n",
      ")\n",
      "Adjusting learning rate of group 0 to 1.0000e-04.\n"
     ]
    },
    {
     "name": "stderr",
     "output_type": "stream",
     "text": [
      "<ipython-input-9-b05ae6a46187>:3: RuntimeWarning: invalid value encountered in true_divide\n",
      "  x_sequence = (x_sequence - np.mean(x_sequence))/std\n"
     ]
    },
    {
     "name": "stdout",
     "output_type": "stream",
     "text": [
      "Adjusting learning rate of group 0 to 1.0045e-04.\n"
     ]
    },
    {
     "name": "stderr",
     "output_type": "stream",
     "text": [
      "C:\\Users\\aar245.CORNELL\\Anaconda3\\envs\\mlenv\\lib\\site-packages\\torch\\nn\\modules\\loss.py:446: UserWarning: Using a target size (torch.Size([1, 15])) that is different to the input size (torch.Size([15])). This will likely lead to incorrect results due to broadcasting. Please ensure they have the same size.\n",
      "  return F.mse_loss(input, target, reduction=self.reduction)\n"
     ]
    },
    {
     "name": "stdout",
     "output_type": "stream",
     "text": [
      "Loss after 01523 batches: 0.1280\n",
      "Adjusting learning rate of group 0 to 1.0090e-04.\n"
     ]
    },
    {
     "name": "stderr",
     "output_type": "stream",
     "text": [
      "C:\\Users\\aar245.CORNELL\\Anaconda3\\envs\\mlenv\\lib\\site-packages\\torch\\nn\\modules\\loss.py:446: UserWarning: Using a target size (torch.Size([1, 15])) that is different to the input size (torch.Size([15])). This will likely lead to incorrect results due to broadcasting. Please ensure they have the same size.\n",
      "  return F.mse_loss(input, target, reduction=self.reduction)\n"
     ]
    },
    {
     "name": "stdout",
     "output_type": "stream",
     "text": [
      "Loss after 03046 batches: 0.1210\n",
      "Adjusting learning rate of group 0 to 1.0135e-04.\n"
     ]
    },
    {
     "name": "stderr",
     "output_type": "stream",
     "text": [
      "C:\\Users\\aar245.CORNELL\\Anaconda3\\envs\\mlenv\\lib\\site-packages\\torch\\nn\\modules\\loss.py:446: UserWarning: Using a target size (torch.Size([1, 15])) that is different to the input size (torch.Size([15])). This will likely lead to incorrect results due to broadcasting. Please ensure they have the same size.\n",
      "  return F.mse_loss(input, target, reduction=self.reduction)\n"
     ]
    },
    {
     "name": "stdout",
     "output_type": "stream",
     "text": [
      "Loss after 04569 batches: 0.1118\n",
      "Adjusting learning rate of group 0 to 1.0180e-04.\n"
     ]
    },
    {
     "name": "stderr",
     "output_type": "stream",
     "text": [
      "C:\\Users\\aar245.CORNELL\\Anaconda3\\envs\\mlenv\\lib\\site-packages\\torch\\nn\\modules\\loss.py:446: UserWarning: Using a target size (torch.Size([1, 15])) that is different to the input size (torch.Size([15])). This will likely lead to incorrect results due to broadcasting. Please ensure they have the same size.\n",
      "  return F.mse_loss(input, target, reduction=self.reduction)\n"
     ]
    },
    {
     "name": "stdout",
     "output_type": "stream",
     "text": [
      "Loss after 06092 batches: 0.1093\n",
      "Adjusting learning rate of group 0 to 1.0225e-04.\n"
     ]
    },
    {
     "name": "stderr",
     "output_type": "stream",
     "text": [
      "C:\\Users\\aar245.CORNELL\\Anaconda3\\envs\\mlenv\\lib\\site-packages\\torch\\nn\\modules\\loss.py:446: UserWarning: Using a target size (torch.Size([1, 15])) that is different to the input size (torch.Size([15])). This will likely lead to incorrect results due to broadcasting. Please ensure they have the same size.\n",
      "  return F.mse_loss(input, target, reduction=self.reduction)\n"
     ]
    },
    {
     "name": "stdout",
     "output_type": "stream",
     "text": [
      "Loss after 07615 batches: 0.1084\n",
      "Adjusting learning rate of group 0 to 1.0270e-04.\n"
     ]
    },
    {
     "name": "stderr",
     "output_type": "stream",
     "text": [
      "C:\\Users\\aar245.CORNELL\\Anaconda3\\envs\\mlenv\\lib\\site-packages\\torch\\nn\\modules\\loss.py:446: UserWarning: Using a target size (torch.Size([1, 15])) that is different to the input size (torch.Size([15])). This will likely lead to incorrect results due to broadcasting. Please ensure they have the same size.\n",
      "  return F.mse_loss(input, target, reduction=self.reduction)\n"
     ]
    },
    {
     "name": "stdout",
     "output_type": "stream",
     "text": [
      "Loss after 09138 batches: 0.1064\n",
      "Adjusting learning rate of group 0 to 1.0315e-04.\n"
     ]
    },
    {
     "name": "stderr",
     "output_type": "stream",
     "text": [
      "C:\\Users\\aar245.CORNELL\\Anaconda3\\envs\\mlenv\\lib\\site-packages\\torch\\nn\\modules\\loss.py:446: UserWarning: Using a target size (torch.Size([1, 15])) that is different to the input size (torch.Size([15])). This will likely lead to incorrect results due to broadcasting. Please ensure they have the same size.\n",
      "  return F.mse_loss(input, target, reduction=self.reduction)\n"
     ]
    },
    {
     "name": "stdout",
     "output_type": "stream",
     "text": [
      "Loss after 10661 batches: 0.1062\n",
      "Adjusting learning rate of group 0 to 1.0360e-04.\n"
     ]
    },
    {
     "name": "stderr",
     "output_type": "stream",
     "text": [
      "C:\\Users\\aar245.CORNELL\\Anaconda3\\envs\\mlenv\\lib\\site-packages\\torch\\nn\\modules\\loss.py:446: UserWarning: Using a target size (torch.Size([1, 15])) that is different to the input size (torch.Size([15])). This will likely lead to incorrect results due to broadcasting. Please ensure they have the same size.\n",
      "  return F.mse_loss(input, target, reduction=self.reduction)\n"
     ]
    },
    {
     "name": "stdout",
     "output_type": "stream",
     "text": [
      "Loss after 12184 batches: 0.1055\n",
      "Adjusting learning rate of group 0 to 1.0405e-04.\n"
     ]
    },
    {
     "name": "stderr",
     "output_type": "stream",
     "text": [
      "C:\\Users\\aar245.CORNELL\\Anaconda3\\envs\\mlenv\\lib\\site-packages\\torch\\nn\\modules\\loss.py:446: UserWarning: Using a target size (torch.Size([1, 15])) that is different to the input size (torch.Size([15])). This will likely lead to incorrect results due to broadcasting. Please ensure they have the same size.\n",
      "  return F.mse_loss(input, target, reduction=self.reduction)\n"
     ]
    },
    {
     "name": "stdout",
     "output_type": "stream",
     "text": [
      "Loss after 13707 batches: 0.1051\n",
      "Adjusting learning rate of group 0 to 1.0450e-04.\n"
     ]
    },
    {
     "name": "stderr",
     "output_type": "stream",
     "text": [
      "C:\\Users\\aar245.CORNELL\\Anaconda3\\envs\\mlenv\\lib\\site-packages\\torch\\nn\\modules\\loss.py:446: UserWarning: Using a target size (torch.Size([1, 15])) that is different to the input size (torch.Size([15])). This will likely lead to incorrect results due to broadcasting. Please ensure they have the same size.\n",
      "  return F.mse_loss(input, target, reduction=self.reduction)\n"
     ]
    },
    {
     "name": "stdout",
     "output_type": "stream",
     "text": [
      "Loss after 15230 batches: 0.1044\n",
      "Adjusting learning rate of group 0 to 1.0495e-04.\n"
     ]
    },
    {
     "name": "stderr",
     "output_type": "stream",
     "text": [
      "C:\\Users\\aar245.CORNELL\\Anaconda3\\envs\\mlenv\\lib\\site-packages\\torch\\nn\\modules\\loss.py:446: UserWarning: Using a target size (torch.Size([1, 15])) that is different to the input size (torch.Size([15])). This will likely lead to incorrect results due to broadcasting. Please ensure they have the same size.\n",
      "  return F.mse_loss(input, target, reduction=self.reduction)\n"
     ]
    },
    {
     "name": "stdout",
     "output_type": "stream",
     "text": [
      "Loss after 16753 batches: 0.1043\n",
      "Adjusting learning rate of group 0 to 1.0540e-04.\n"
     ]
    },
    {
     "name": "stderr",
     "output_type": "stream",
     "text": [
      "C:\\Users\\aar245.CORNELL\\Anaconda3\\envs\\mlenv\\lib\\site-packages\\torch\\nn\\modules\\loss.py:446: UserWarning: Using a target size (torch.Size([1, 15])) that is different to the input size (torch.Size([15])). This will likely lead to incorrect results due to broadcasting. Please ensure they have the same size.\n",
      "  return F.mse_loss(input, target, reduction=self.reduction)\n"
     ]
    },
    {
     "name": "stdout",
     "output_type": "stream",
     "text": [
      "Loss after 18276 batches: 0.1042\n",
      "Adjusting learning rate of group 0 to 1.0585e-04.\n"
     ]
    },
    {
     "name": "stderr",
     "output_type": "stream",
     "text": [
      "C:\\Users\\aar245.CORNELL\\Anaconda3\\envs\\mlenv\\lib\\site-packages\\torch\\nn\\modules\\loss.py:446: UserWarning: Using a target size (torch.Size([1, 15])) that is different to the input size (torch.Size([15])). This will likely lead to incorrect results due to broadcasting. Please ensure they have the same size.\n",
      "  return F.mse_loss(input, target, reduction=self.reduction)\n"
     ]
    },
    {
     "name": "stdout",
     "output_type": "stream",
     "text": [
      "Loss after 19799 batches: 0.1030\n",
      "Adjusting learning rate of group 0 to 1.0630e-04.\n"
     ]
    },
    {
     "name": "stderr",
     "output_type": "stream",
     "text": [
      "C:\\Users\\aar245.CORNELL\\Anaconda3\\envs\\mlenv\\lib\\site-packages\\torch\\nn\\modules\\loss.py:446: UserWarning: Using a target size (torch.Size([1, 15])) that is different to the input size (torch.Size([15])). This will likely lead to incorrect results due to broadcasting. Please ensure they have the same size.\n",
      "  return F.mse_loss(input, target, reduction=self.reduction)\n"
     ]
    },
    {
     "name": "stdout",
     "output_type": "stream",
     "text": [
      "Loss after 21322 batches: 0.1029\n",
      "Adjusting learning rate of group 0 to 1.0675e-04.\n"
     ]
    },
    {
     "name": "stderr",
     "output_type": "stream",
     "text": [
      "C:\\Users\\aar245.CORNELL\\Anaconda3\\envs\\mlenv\\lib\\site-packages\\torch\\nn\\modules\\loss.py:446: UserWarning: Using a target size (torch.Size([1, 15])) that is different to the input size (torch.Size([15])). This will likely lead to incorrect results due to broadcasting. Please ensure they have the same size.\n",
      "  return F.mse_loss(input, target, reduction=self.reduction)\n"
     ]
    },
    {
     "name": "stdout",
     "output_type": "stream",
     "text": [
      "Loss after 22845 batches: 0.1030\n",
      "Adjusting learning rate of group 0 to 1.0720e-04.\n"
     ]
    },
    {
     "name": "stderr",
     "output_type": "stream",
     "text": [
      "C:\\Users\\aar245.CORNELL\\Anaconda3\\envs\\mlenv\\lib\\site-packages\\torch\\nn\\modules\\loss.py:446: UserWarning: Using a target size (torch.Size([1, 15])) that is different to the input size (torch.Size([15])). This will likely lead to incorrect results due to broadcasting. Please ensure they have the same size.\n",
      "  return F.mse_loss(input, target, reduction=self.reduction)\n"
     ]
    },
    {
     "name": "stdout",
     "output_type": "stream",
     "text": [
      "Loss after 24368 batches: 0.1030\n",
      "Adjusting learning rate of group 0 to 1.0765e-04.\n"
     ]
    },
    {
     "name": "stderr",
     "output_type": "stream",
     "text": [
      "C:\\Users\\aar245.CORNELL\\Anaconda3\\envs\\mlenv\\lib\\site-packages\\torch\\nn\\modules\\loss.py:446: UserWarning: Using a target size (torch.Size([1, 15])) that is different to the input size (torch.Size([15])). This will likely lead to incorrect results due to broadcasting. Please ensure they have the same size.\n",
      "  return F.mse_loss(input, target, reduction=self.reduction)\n"
     ]
    },
    {
     "name": "stdout",
     "output_type": "stream",
     "text": [
      "Loss after 25891 batches: 0.1031\n",
      "Adjusting learning rate of group 0 to 1.0810e-04.\n"
     ]
    },
    {
     "name": "stderr",
     "output_type": "stream",
     "text": [
      "C:\\Users\\aar245.CORNELL\\Anaconda3\\envs\\mlenv\\lib\\site-packages\\torch\\nn\\modules\\loss.py:446: UserWarning: Using a target size (torch.Size([1, 15])) that is different to the input size (torch.Size([15])). This will likely lead to incorrect results due to broadcasting. Please ensure they have the same size.\n",
      "  return F.mse_loss(input, target, reduction=self.reduction)\n"
     ]
    },
    {
     "name": "stdout",
     "output_type": "stream",
     "text": [
      "Loss after 27414 batches: 0.1018\n",
      "Adjusting learning rate of group 0 to 1.0855e-04.\n"
     ]
    },
    {
     "name": "stderr",
     "output_type": "stream",
     "text": [
      "C:\\Users\\aar245.CORNELL\\Anaconda3\\envs\\mlenv\\lib\\site-packages\\torch\\nn\\modules\\loss.py:446: UserWarning: Using a target size (torch.Size([1, 15])) that is different to the input size (torch.Size([15])). This will likely lead to incorrect results due to broadcasting. Please ensure they have the same size.\n",
      "  return F.mse_loss(input, target, reduction=self.reduction)\n"
     ]
    },
    {
     "name": "stdout",
     "output_type": "stream",
     "text": [
      "Loss after 28937 batches: 0.1023\n",
      "Adjusting learning rate of group 0 to 1.0900e-04.\n"
     ]
    },
    {
     "name": "stderr",
     "output_type": "stream",
     "text": [
      "C:\\Users\\aar245.CORNELL\\Anaconda3\\envs\\mlenv\\lib\\site-packages\\torch\\nn\\modules\\loss.py:446: UserWarning: Using a target size (torch.Size([1, 15])) that is different to the input size (torch.Size([15])). This will likely lead to incorrect results due to broadcasting. Please ensure they have the same size.\n",
      "  return F.mse_loss(input, target, reduction=self.reduction)\n"
     ]
    },
    {
     "name": "stdout",
     "output_type": "stream",
     "text": [
      "Loss after 30460 batches: 0.1013\n",
      "Adjusting learning rate of group 0 to 1.0945e-04.\n"
     ]
    },
    {
     "name": "stderr",
     "output_type": "stream",
     "text": [
      "C:\\Users\\aar245.CORNELL\\Anaconda3\\envs\\mlenv\\lib\\site-packages\\torch\\nn\\modules\\loss.py:446: UserWarning: Using a target size (torch.Size([1, 15])) that is different to the input size (torch.Size([15])). This will likely lead to incorrect results due to broadcasting. Please ensure they have the same size.\n",
      "  return F.mse_loss(input, target, reduction=self.reduction)\n"
     ]
    },
    {
     "name": "stdout",
     "output_type": "stream",
     "text": [
      "Loss after 31983 batches: 0.1009\n",
      "Adjusting learning rate of group 0 to 1.0990e-04.\n"
     ]
    },
    {
     "name": "stderr",
     "output_type": "stream",
     "text": [
      "C:\\Users\\aar245.CORNELL\\Anaconda3\\envs\\mlenv\\lib\\site-packages\\torch\\nn\\modules\\loss.py:446: UserWarning: Using a target size (torch.Size([1, 15])) that is different to the input size (torch.Size([15])). This will likely lead to incorrect results due to broadcasting. Please ensure they have the same size.\n",
      "  return F.mse_loss(input, target, reduction=self.reduction)\n"
     ]
    },
    {
     "name": "stdout",
     "output_type": "stream",
     "text": [
      "Loss after 33506 batches: 0.1002\n",
      "Adjusting learning rate of group 0 to 1.1035e-04.\n"
     ]
    },
    {
     "name": "stderr",
     "output_type": "stream",
     "text": [
      "C:\\Users\\aar245.CORNELL\\Anaconda3\\envs\\mlenv\\lib\\site-packages\\torch\\nn\\modules\\loss.py:446: UserWarning: Using a target size (torch.Size([1, 15])) that is different to the input size (torch.Size([15])). This will likely lead to incorrect results due to broadcasting. Please ensure they have the same size.\n",
      "  return F.mse_loss(input, target, reduction=self.reduction)\n"
     ]
    },
    {
     "name": "stdout",
     "output_type": "stream",
     "text": [
      "Loss after 35029 batches: 0.1004\n",
      "Adjusting learning rate of group 0 to 1.1080e-04.\n"
     ]
    },
    {
     "name": "stderr",
     "output_type": "stream",
     "text": [
      "C:\\Users\\aar245.CORNELL\\Anaconda3\\envs\\mlenv\\lib\\site-packages\\torch\\nn\\modules\\loss.py:446: UserWarning: Using a target size (torch.Size([1, 15])) that is different to the input size (torch.Size([15])). This will likely lead to incorrect results due to broadcasting. Please ensure they have the same size.\n",
      "  return F.mse_loss(input, target, reduction=self.reduction)\n"
     ]
    },
    {
     "name": "stdout",
     "output_type": "stream",
     "text": [
      "Loss after 36552 batches: 0.1009\n",
      "Adjusting learning rate of group 0 to 1.1125e-04.\n"
     ]
    },
    {
     "name": "stderr",
     "output_type": "stream",
     "text": [
      "C:\\Users\\aar245.CORNELL\\Anaconda3\\envs\\mlenv\\lib\\site-packages\\torch\\nn\\modules\\loss.py:446: UserWarning: Using a target size (torch.Size([1, 15])) that is different to the input size (torch.Size([15])). This will likely lead to incorrect results due to broadcasting. Please ensure they have the same size.\n",
      "  return F.mse_loss(input, target, reduction=self.reduction)\n"
     ]
    },
    {
     "name": "stdout",
     "output_type": "stream",
     "text": [
      "Loss after 38075 batches: 0.1004\n",
      "Adjusting learning rate of group 0 to 1.1170e-04.\n"
     ]
    },
    {
     "name": "stderr",
     "output_type": "stream",
     "text": [
      "C:\\Users\\aar245.CORNELL\\Anaconda3\\envs\\mlenv\\lib\\site-packages\\torch\\nn\\modules\\loss.py:446: UserWarning: Using a target size (torch.Size([1, 15])) that is different to the input size (torch.Size([15])). This will likely lead to incorrect results due to broadcasting. Please ensure they have the same size.\n",
      "  return F.mse_loss(input, target, reduction=self.reduction)\n"
     ]
    },
    {
     "name": "stdout",
     "output_type": "stream",
     "text": [
      "Loss after 39598 batches: 0.0998\n",
      "Adjusting learning rate of group 0 to 1.1215e-04.\n"
     ]
    },
    {
     "name": "stderr",
     "output_type": "stream",
     "text": [
      "C:\\Users\\aar245.CORNELL\\Anaconda3\\envs\\mlenv\\lib\\site-packages\\torch\\nn\\modules\\loss.py:446: UserWarning: Using a target size (torch.Size([1, 15])) that is different to the input size (torch.Size([15])). This will likely lead to incorrect results due to broadcasting. Please ensure they have the same size.\n",
      "  return F.mse_loss(input, target, reduction=self.reduction)\n"
     ]
    },
    {
     "name": "stdout",
     "output_type": "stream",
     "text": [
      "Loss after 41121 batches: 0.1002\n",
      "Adjusting learning rate of group 0 to 1.1260e-04.\n"
     ]
    },
    {
     "name": "stderr",
     "output_type": "stream",
     "text": [
      "C:\\Users\\aar245.CORNELL\\Anaconda3\\envs\\mlenv\\lib\\site-packages\\torch\\nn\\modules\\loss.py:446: UserWarning: Using a target size (torch.Size([1, 15])) that is different to the input size (torch.Size([15])). This will likely lead to incorrect results due to broadcasting. Please ensure they have the same size.\n",
      "  return F.mse_loss(input, target, reduction=self.reduction)\n"
     ]
    },
    {
     "name": "stdout",
     "output_type": "stream",
     "text": [
      "Loss after 42644 batches: 0.0991\n",
      "Adjusting learning rate of group 0 to 1.1305e-04.\n"
     ]
    },
    {
     "name": "stderr",
     "output_type": "stream",
     "text": [
      "C:\\Users\\aar245.CORNELL\\Anaconda3\\envs\\mlenv\\lib\\site-packages\\torch\\nn\\modules\\loss.py:446: UserWarning: Using a target size (torch.Size([1, 15])) that is different to the input size (torch.Size([15])). This will likely lead to incorrect results due to broadcasting. Please ensure they have the same size.\n",
      "  return F.mse_loss(input, target, reduction=self.reduction)\n"
     ]
    },
    {
     "name": "stdout",
     "output_type": "stream",
     "text": [
      "Loss after 44167 batches: 0.0994\n",
      "Adjusting learning rate of group 0 to 1.1350e-04.\n"
     ]
    },
    {
     "name": "stderr",
     "output_type": "stream",
     "text": [
      "C:\\Users\\aar245.CORNELL\\Anaconda3\\envs\\mlenv\\lib\\site-packages\\torch\\nn\\modules\\loss.py:446: UserWarning: Using a target size (torch.Size([1, 15])) that is different to the input size (torch.Size([15])). This will likely lead to incorrect results due to broadcasting. Please ensure they have the same size.\n",
      "  return F.mse_loss(input, target, reduction=self.reduction)\n"
     ]
    },
    {
     "name": "stdout",
     "output_type": "stream",
     "text": [
      "Loss after 45690 batches: 0.0987\n",
      "Adjusting learning rate of group 0 to 1.1395e-04.\n"
     ]
    },
    {
     "name": "stderr",
     "output_type": "stream",
     "text": [
      "C:\\Users\\aar245.CORNELL\\Anaconda3\\envs\\mlenv\\lib\\site-packages\\torch\\nn\\modules\\loss.py:446: UserWarning: Using a target size (torch.Size([1, 15])) that is different to the input size (torch.Size([15])). This will likely lead to incorrect results due to broadcasting. Please ensure they have the same size.\n",
      "  return F.mse_loss(input, target, reduction=self.reduction)\n"
     ]
    },
    {
     "name": "stdout",
     "output_type": "stream",
     "text": [
      "Loss after 47213 batches: 0.1000\n",
      "Adjusting learning rate of group 0 to 1.1440e-04.\n"
     ]
    },
    {
     "name": "stderr",
     "output_type": "stream",
     "text": [
      "C:\\Users\\aar245.CORNELL\\Anaconda3\\envs\\mlenv\\lib\\site-packages\\torch\\nn\\modules\\loss.py:446: UserWarning: Using a target size (torch.Size([1, 15])) that is different to the input size (torch.Size([15])). This will likely lead to incorrect results due to broadcasting. Please ensure they have the same size.\n",
      "  return F.mse_loss(input, target, reduction=self.reduction)\n"
     ]
    },
    {
     "name": "stdout",
     "output_type": "stream",
     "text": [
      "Loss after 48736 batches: 0.0996\n",
      "Adjusting learning rate of group 0 to 1.1485e-04.\n"
     ]
    },
    {
     "name": "stderr",
     "output_type": "stream",
     "text": [
      "C:\\Users\\aar245.CORNELL\\Anaconda3\\envs\\mlenv\\lib\\site-packages\\torch\\nn\\modules\\loss.py:446: UserWarning: Using a target size (torch.Size([1, 15])) that is different to the input size (torch.Size([15])). This will likely lead to incorrect results due to broadcasting. Please ensure they have the same size.\n",
      "  return F.mse_loss(input, target, reduction=self.reduction)\n"
     ]
    },
    {
     "name": "stdout",
     "output_type": "stream",
     "text": [
      "Loss after 50259 batches: 0.0987\n",
      "Adjusting learning rate of group 0 to 1.1530e-04.\n"
     ]
    },
    {
     "name": "stderr",
     "output_type": "stream",
     "text": [
      "C:\\Users\\aar245.CORNELL\\Anaconda3\\envs\\mlenv\\lib\\site-packages\\torch\\nn\\modules\\loss.py:446: UserWarning: Using a target size (torch.Size([1, 15])) that is different to the input size (torch.Size([15])). This will likely lead to incorrect results due to broadcasting. Please ensure they have the same size.\n",
      "  return F.mse_loss(input, target, reduction=self.reduction)\n"
     ]
    },
    {
     "name": "stdout",
     "output_type": "stream",
     "text": [
      "Loss after 51782 batches: 0.0987\n",
      "Adjusting learning rate of group 0 to 1.1575e-04.\n"
     ]
    },
    {
     "name": "stderr",
     "output_type": "stream",
     "text": [
      "C:\\Users\\aar245.CORNELL\\Anaconda3\\envs\\mlenv\\lib\\site-packages\\torch\\nn\\modules\\loss.py:446: UserWarning: Using a target size (torch.Size([1, 15])) that is different to the input size (torch.Size([15])). This will likely lead to incorrect results due to broadcasting. Please ensure they have the same size.\n",
      "  return F.mse_loss(input, target, reduction=self.reduction)\n"
     ]
    },
    {
     "name": "stdout",
     "output_type": "stream",
     "text": [
      "Loss after 53305 batches: 0.0984\n",
      "Adjusting learning rate of group 0 to 1.1620e-04.\n"
     ]
    },
    {
     "name": "stderr",
     "output_type": "stream",
     "text": [
      "C:\\Users\\aar245.CORNELL\\Anaconda3\\envs\\mlenv\\lib\\site-packages\\torch\\nn\\modules\\loss.py:446: UserWarning: Using a target size (torch.Size([1, 15])) that is different to the input size (torch.Size([15])). This will likely lead to incorrect results due to broadcasting. Please ensure they have the same size.\n",
      "  return F.mse_loss(input, target, reduction=self.reduction)\n"
     ]
    },
    {
     "name": "stdout",
     "output_type": "stream",
     "text": [
      "Loss after 54828 batches: 0.0991\n",
      "Adjusting learning rate of group 0 to 1.1665e-04.\n"
     ]
    },
    {
     "name": "stderr",
     "output_type": "stream",
     "text": [
      "C:\\Users\\aar245.CORNELL\\Anaconda3\\envs\\mlenv\\lib\\site-packages\\torch\\nn\\modules\\loss.py:446: UserWarning: Using a target size (torch.Size([1, 15])) that is different to the input size (torch.Size([15])). This will likely lead to incorrect results due to broadcasting. Please ensure they have the same size.\n",
      "  return F.mse_loss(input, target, reduction=self.reduction)\n"
     ]
    },
    {
     "name": "stdout",
     "output_type": "stream",
     "text": [
      "Loss after 56351 batches: 0.0985\n",
      "Adjusting learning rate of group 0 to 1.1710e-04.\n"
     ]
    },
    {
     "name": "stderr",
     "output_type": "stream",
     "text": [
      "C:\\Users\\aar245.CORNELL\\Anaconda3\\envs\\mlenv\\lib\\site-packages\\torch\\nn\\modules\\loss.py:446: UserWarning: Using a target size (torch.Size([1, 15])) that is different to the input size (torch.Size([15])). This will likely lead to incorrect results due to broadcasting. Please ensure they have the same size.\n",
      "  return F.mse_loss(input, target, reduction=self.reduction)\n"
     ]
    },
    {
     "name": "stdout",
     "output_type": "stream",
     "text": [
      "Loss after 57874 batches: 0.0971\n",
      "Adjusting learning rate of group 0 to 1.1755e-04.\n"
     ]
    },
    {
     "name": "stderr",
     "output_type": "stream",
     "text": [
      "C:\\Users\\aar245.CORNELL\\Anaconda3\\envs\\mlenv\\lib\\site-packages\\torch\\nn\\modules\\loss.py:446: UserWarning: Using a target size (torch.Size([1, 15])) that is different to the input size (torch.Size([15])). This will likely lead to incorrect results due to broadcasting. Please ensure they have the same size.\n",
      "  return F.mse_loss(input, target, reduction=self.reduction)\n"
     ]
    },
    {
     "name": "stdout",
     "output_type": "stream",
     "text": [
      "Loss after 59397 batches: 0.0979\n",
      "Adjusting learning rate of group 0 to 1.1800e-04.\n"
     ]
    },
    {
     "name": "stderr",
     "output_type": "stream",
     "text": [
      "C:\\Users\\aar245.CORNELL\\Anaconda3\\envs\\mlenv\\lib\\site-packages\\torch\\nn\\modules\\loss.py:446: UserWarning: Using a target size (torch.Size([1, 15])) that is different to the input size (torch.Size([15])). This will likely lead to incorrect results due to broadcasting. Please ensure they have the same size.\n",
      "  return F.mse_loss(input, target, reduction=self.reduction)\n"
     ]
    },
    {
     "name": "stdout",
     "output_type": "stream",
     "text": [
      "Loss after 60920 batches: 0.0974\n",
      "Adjusting learning rate of group 0 to 1.1845e-04.\n"
     ]
    },
    {
     "name": "stderr",
     "output_type": "stream",
     "text": [
      "C:\\Users\\aar245.CORNELL\\Anaconda3\\envs\\mlenv\\lib\\site-packages\\torch\\nn\\modules\\loss.py:446: UserWarning: Using a target size (torch.Size([1, 15])) that is different to the input size (torch.Size([15])). This will likely lead to incorrect results due to broadcasting. Please ensure they have the same size.\n",
      "  return F.mse_loss(input, target, reduction=self.reduction)\n"
     ]
    },
    {
     "name": "stdout",
     "output_type": "stream",
     "text": [
      "Loss after 62443 batches: 0.0978\n",
      "Adjusting learning rate of group 0 to 1.1890e-04.\n"
     ]
    },
    {
     "name": "stderr",
     "output_type": "stream",
     "text": [
      "C:\\Users\\aar245.CORNELL\\Anaconda3\\envs\\mlenv\\lib\\site-packages\\torch\\nn\\modules\\loss.py:446: UserWarning: Using a target size (torch.Size([1, 15])) that is different to the input size (torch.Size([15])). This will likely lead to incorrect results due to broadcasting. Please ensure they have the same size.\n",
      "  return F.mse_loss(input, target, reduction=self.reduction)\n"
     ]
    },
    {
     "name": "stdout",
     "output_type": "stream",
     "text": [
      "Loss after 63966 batches: 0.0974\n",
      "Adjusting learning rate of group 0 to 1.1935e-04.\n"
     ]
    },
    {
     "name": "stderr",
     "output_type": "stream",
     "text": [
      "C:\\Users\\aar245.CORNELL\\Anaconda3\\envs\\mlenv\\lib\\site-packages\\torch\\nn\\modules\\loss.py:446: UserWarning: Using a target size (torch.Size([1, 15])) that is different to the input size (torch.Size([15])). This will likely lead to incorrect results due to broadcasting. Please ensure they have the same size.\n",
      "  return F.mse_loss(input, target, reduction=self.reduction)\n"
     ]
    },
    {
     "name": "stdout",
     "output_type": "stream",
     "text": [
      "Loss after 65489 batches: 0.0966\n",
      "Adjusting learning rate of group 0 to 1.1980e-04.\n"
     ]
    },
    {
     "name": "stderr",
     "output_type": "stream",
     "text": [
      "C:\\Users\\aar245.CORNELL\\Anaconda3\\envs\\mlenv\\lib\\site-packages\\torch\\nn\\modules\\loss.py:446: UserWarning: Using a target size (torch.Size([1, 15])) that is different to the input size (torch.Size([15])). This will likely lead to incorrect results due to broadcasting. Please ensure they have the same size.\n",
      "  return F.mse_loss(input, target, reduction=self.reduction)\n"
     ]
    },
    {
     "name": "stdout",
     "output_type": "stream",
     "text": [
      "Loss after 67012 batches: 0.0973\n",
      "Adjusting learning rate of group 0 to 1.2025e-04.\n"
     ]
    },
    {
     "name": "stderr",
     "output_type": "stream",
     "text": [
      "C:\\Users\\aar245.CORNELL\\Anaconda3\\envs\\mlenv\\lib\\site-packages\\torch\\nn\\modules\\loss.py:446: UserWarning: Using a target size (torch.Size([1, 15])) that is different to the input size (torch.Size([15])). This will likely lead to incorrect results due to broadcasting. Please ensure they have the same size.\n",
      "  return F.mse_loss(input, target, reduction=self.reduction)\n"
     ]
    },
    {
     "name": "stdout",
     "output_type": "stream",
     "text": [
      "Loss after 68535 batches: 0.0977\n",
      "Adjusting learning rate of group 0 to 1.2070e-04.\n"
     ]
    },
    {
     "name": "stderr",
     "output_type": "stream",
     "text": [
      "C:\\Users\\aar245.CORNELL\\Anaconda3\\envs\\mlenv\\lib\\site-packages\\torch\\nn\\modules\\loss.py:446: UserWarning: Using a target size (torch.Size([1, 15])) that is different to the input size (torch.Size([15])). This will likely lead to incorrect results due to broadcasting. Please ensure they have the same size.\n",
      "  return F.mse_loss(input, target, reduction=self.reduction)\n"
     ]
    },
    {
     "name": "stdout",
     "output_type": "stream",
     "text": [
      "Loss after 70058 batches: 0.0985\n",
      "Adjusting learning rate of group 0 to 1.2115e-04.\n"
     ]
    },
    {
     "name": "stderr",
     "output_type": "stream",
     "text": [
      "C:\\Users\\aar245.CORNELL\\Anaconda3\\envs\\mlenv\\lib\\site-packages\\torch\\nn\\modules\\loss.py:446: UserWarning: Using a target size (torch.Size([1, 15])) that is different to the input size (torch.Size([15])). This will likely lead to incorrect results due to broadcasting. Please ensure they have the same size.\n",
      "  return F.mse_loss(input, target, reduction=self.reduction)\n"
     ]
    },
    {
     "name": "stdout",
     "output_type": "stream",
     "text": [
      "Loss after 71581 batches: 0.0984\n",
      "Adjusting learning rate of group 0 to 1.2160e-04.\n"
     ]
    },
    {
     "name": "stderr",
     "output_type": "stream",
     "text": [
      "C:\\Users\\aar245.CORNELL\\Anaconda3\\envs\\mlenv\\lib\\site-packages\\torch\\nn\\modules\\loss.py:446: UserWarning: Using a target size (torch.Size([1, 15])) that is different to the input size (torch.Size([15])). This will likely lead to incorrect results due to broadcasting. Please ensure they have the same size.\n",
      "  return F.mse_loss(input, target, reduction=self.reduction)\n"
     ]
    },
    {
     "name": "stdout",
     "output_type": "stream",
     "text": [
      "Loss after 73104 batches: 0.0973\n",
      "Adjusting learning rate of group 0 to 1.2205e-04.\n"
     ]
    },
    {
     "name": "stderr",
     "output_type": "stream",
     "text": [
      "C:\\Users\\aar245.CORNELL\\Anaconda3\\envs\\mlenv\\lib\\site-packages\\torch\\nn\\modules\\loss.py:446: UserWarning: Using a target size (torch.Size([1, 15])) that is different to the input size (torch.Size([15])). This will likely lead to incorrect results due to broadcasting. Please ensure they have the same size.\n",
      "  return F.mse_loss(input, target, reduction=self.reduction)\n"
     ]
    },
    {
     "name": "stdout",
     "output_type": "stream",
     "text": [
      "Loss after 74627 batches: 0.0972\n",
      "Adjusting learning rate of group 0 to 1.2250e-04.\n"
     ]
    },
    {
     "name": "stderr",
     "output_type": "stream",
     "text": [
      "C:\\Users\\aar245.CORNELL\\Anaconda3\\envs\\mlenv\\lib\\site-packages\\torch\\nn\\modules\\loss.py:446: UserWarning: Using a target size (torch.Size([1, 15])) that is different to the input size (torch.Size([15])). This will likely lead to incorrect results due to broadcasting. Please ensure they have the same size.\n",
      "  return F.mse_loss(input, target, reduction=self.reduction)\n"
     ]
    },
    {
     "name": "stdout",
     "output_type": "stream",
     "text": [
      "Loss after 76150 batches: 0.0966\n",
      "Adjusting learning rate of group 0 to 1.2295e-04.\n"
     ]
    },
    {
     "name": "stderr",
     "output_type": "stream",
     "text": [
      "C:\\Users\\aar245.CORNELL\\Anaconda3\\envs\\mlenv\\lib\\site-packages\\torch\\nn\\modules\\loss.py:446: UserWarning: Using a target size (torch.Size([1, 15])) that is different to the input size (torch.Size([15])). This will likely lead to incorrect results due to broadcasting. Please ensure they have the same size.\n",
      "  return F.mse_loss(input, target, reduction=self.reduction)\n"
     ]
    },
    {
     "name": "stdout",
     "output_type": "stream",
     "text": [
      "Loss after 77673 batches: 0.0955\n",
      "Adjusting learning rate of group 0 to 1.2340e-04.\n"
     ]
    },
    {
     "name": "stderr",
     "output_type": "stream",
     "text": [
      "C:\\Users\\aar245.CORNELL\\Anaconda3\\envs\\mlenv\\lib\\site-packages\\torch\\nn\\modules\\loss.py:446: UserWarning: Using a target size (torch.Size([1, 15])) that is different to the input size (torch.Size([15])). This will likely lead to incorrect results due to broadcasting. Please ensure they have the same size.\n",
      "  return F.mse_loss(input, target, reduction=self.reduction)\n"
     ]
    },
    {
     "name": "stdout",
     "output_type": "stream",
     "text": [
      "Loss after 79196 batches: 0.0956\n",
      "Adjusting learning rate of group 0 to 1.2385e-04.\n"
     ]
    },
    {
     "name": "stderr",
     "output_type": "stream",
     "text": [
      "C:\\Users\\aar245.CORNELL\\Anaconda3\\envs\\mlenv\\lib\\site-packages\\torch\\nn\\modules\\loss.py:446: UserWarning: Using a target size (torch.Size([1, 15])) that is different to the input size (torch.Size([15])). This will likely lead to incorrect results due to broadcasting. Please ensure they have the same size.\n",
      "  return F.mse_loss(input, target, reduction=self.reduction)\n"
     ]
    },
    {
     "name": "stdout",
     "output_type": "stream",
     "text": [
      "Loss after 80719 batches: 0.0962\n",
      "Adjusting learning rate of group 0 to 1.2430e-04.\n"
     ]
    },
    {
     "name": "stderr",
     "output_type": "stream",
     "text": [
      "C:\\Users\\aar245.CORNELL\\Anaconda3\\envs\\mlenv\\lib\\site-packages\\torch\\nn\\modules\\loss.py:446: UserWarning: Using a target size (torch.Size([1, 15])) that is different to the input size (torch.Size([15])). This will likely lead to incorrect results due to broadcasting. Please ensure they have the same size.\n",
      "  return F.mse_loss(input, target, reduction=self.reduction)\n"
     ]
    },
    {
     "name": "stdout",
     "output_type": "stream",
     "text": [
      "Loss after 82242 batches: 0.0968\n",
      "Adjusting learning rate of group 0 to 1.2475e-04.\n"
     ]
    },
    {
     "name": "stderr",
     "output_type": "stream",
     "text": [
      "C:\\Users\\aar245.CORNELL\\Anaconda3\\envs\\mlenv\\lib\\site-packages\\torch\\nn\\modules\\loss.py:446: UserWarning: Using a target size (torch.Size([1, 15])) that is different to the input size (torch.Size([15])). This will likely lead to incorrect results due to broadcasting. Please ensure they have the same size.\n",
      "  return F.mse_loss(input, target, reduction=self.reduction)\n"
     ]
    },
    {
     "name": "stdout",
     "output_type": "stream",
     "text": [
      "Loss after 83765 batches: 0.0956\n",
      "Adjusting learning rate of group 0 to 1.2520e-04.\n"
     ]
    },
    {
     "name": "stderr",
     "output_type": "stream",
     "text": [
      "C:\\Users\\aar245.CORNELL\\Anaconda3\\envs\\mlenv\\lib\\site-packages\\torch\\nn\\modules\\loss.py:446: UserWarning: Using a target size (torch.Size([1, 15])) that is different to the input size (torch.Size([15])). This will likely lead to incorrect results due to broadcasting. Please ensure they have the same size.\n",
      "  return F.mse_loss(input, target, reduction=self.reduction)\n"
     ]
    },
    {
     "name": "stdout",
     "output_type": "stream",
     "text": [
      "Loss after 85288 batches: 0.0961\n",
      "Adjusting learning rate of group 0 to 1.2565e-04.\n"
     ]
    },
    {
     "name": "stderr",
     "output_type": "stream",
     "text": [
      "C:\\Users\\aar245.CORNELL\\Anaconda3\\envs\\mlenv\\lib\\site-packages\\torch\\nn\\modules\\loss.py:446: UserWarning: Using a target size (torch.Size([1, 15])) that is different to the input size (torch.Size([15])). This will likely lead to incorrect results due to broadcasting. Please ensure they have the same size.\n",
      "  return F.mse_loss(input, target, reduction=self.reduction)\n"
     ]
    },
    {
     "name": "stdout",
     "output_type": "stream",
     "text": [
      "Loss after 86811 batches: 0.0958\n",
      "Adjusting learning rate of group 0 to 1.2610e-04.\n"
     ]
    },
    {
     "name": "stderr",
     "output_type": "stream",
     "text": [
      "C:\\Users\\aar245.CORNELL\\Anaconda3\\envs\\mlenv\\lib\\site-packages\\torch\\nn\\modules\\loss.py:446: UserWarning: Using a target size (torch.Size([1, 15])) that is different to the input size (torch.Size([15])). This will likely lead to incorrect results due to broadcasting. Please ensure they have the same size.\n",
      "  return F.mse_loss(input, target, reduction=self.reduction)\n"
     ]
    },
    {
     "name": "stdout",
     "output_type": "stream",
     "text": [
      "Loss after 88334 batches: 0.0967\n",
      "Adjusting learning rate of group 0 to 1.2655e-04.\n"
     ]
    },
    {
     "name": "stderr",
     "output_type": "stream",
     "text": [
      "C:\\Users\\aar245.CORNELL\\Anaconda3\\envs\\mlenv\\lib\\site-packages\\torch\\nn\\modules\\loss.py:446: UserWarning: Using a target size (torch.Size([1, 15])) that is different to the input size (torch.Size([15])). This will likely lead to incorrect results due to broadcasting. Please ensure they have the same size.\n",
      "  return F.mse_loss(input, target, reduction=self.reduction)\n"
     ]
    },
    {
     "name": "stdout",
     "output_type": "stream",
     "text": [
      "Loss after 89857 batches: 0.0950\n",
      "Adjusting learning rate of group 0 to 1.2700e-04.\n"
     ]
    },
    {
     "name": "stderr",
     "output_type": "stream",
     "text": [
      "C:\\Users\\aar245.CORNELL\\Anaconda3\\envs\\mlenv\\lib\\site-packages\\torch\\nn\\modules\\loss.py:446: UserWarning: Using a target size (torch.Size([1, 15])) that is different to the input size (torch.Size([15])). This will likely lead to incorrect results due to broadcasting. Please ensure they have the same size.\n",
      "  return F.mse_loss(input, target, reduction=self.reduction)\n"
     ]
    },
    {
     "name": "stdout",
     "output_type": "stream",
     "text": [
      "Loss after 91380 batches: 0.0946\n",
      "Adjusting learning rate of group 0 to 1.2745e-04.\n"
     ]
    },
    {
     "name": "stderr",
     "output_type": "stream",
     "text": [
      "C:\\Users\\aar245.CORNELL\\Anaconda3\\envs\\mlenv\\lib\\site-packages\\torch\\nn\\modules\\loss.py:446: UserWarning: Using a target size (torch.Size([1, 15])) that is different to the input size (torch.Size([15])). This will likely lead to incorrect results due to broadcasting. Please ensure they have the same size.\n",
      "  return F.mse_loss(input, target, reduction=self.reduction)\n"
     ]
    },
    {
     "name": "stdout",
     "output_type": "stream",
     "text": [
      "Loss after 92903 batches: 0.0947\n",
      "Adjusting learning rate of group 0 to 1.2790e-04.\n"
     ]
    },
    {
     "name": "stderr",
     "output_type": "stream",
     "text": [
      "C:\\Users\\aar245.CORNELL\\Anaconda3\\envs\\mlenv\\lib\\site-packages\\torch\\nn\\modules\\loss.py:446: UserWarning: Using a target size (torch.Size([1, 15])) that is different to the input size (torch.Size([15])). This will likely lead to incorrect results due to broadcasting. Please ensure they have the same size.\n",
      "  return F.mse_loss(input, target, reduction=self.reduction)\n"
     ]
    },
    {
     "name": "stdout",
     "output_type": "stream",
     "text": [
      "Loss after 94426 batches: 0.0957\n",
      "Adjusting learning rate of group 0 to 1.2835e-04.\n"
     ]
    },
    {
     "name": "stderr",
     "output_type": "stream",
     "text": [
      "C:\\Users\\aar245.CORNELL\\Anaconda3\\envs\\mlenv\\lib\\site-packages\\torch\\nn\\modules\\loss.py:446: UserWarning: Using a target size (torch.Size([1, 15])) that is different to the input size (torch.Size([15])). This will likely lead to incorrect results due to broadcasting. Please ensure they have the same size.\n",
      "  return F.mse_loss(input, target, reduction=self.reduction)\n"
     ]
    },
    {
     "name": "stdout",
     "output_type": "stream",
     "text": [
      "Loss after 95949 batches: 0.0949\n",
      "Adjusting learning rate of group 0 to 1.2880e-04.\n"
     ]
    },
    {
     "name": "stderr",
     "output_type": "stream",
     "text": [
      "C:\\Users\\aar245.CORNELL\\Anaconda3\\envs\\mlenv\\lib\\site-packages\\torch\\nn\\modules\\loss.py:446: UserWarning: Using a target size (torch.Size([1, 15])) that is different to the input size (torch.Size([15])). This will likely lead to incorrect results due to broadcasting. Please ensure they have the same size.\n",
      "  return F.mse_loss(input, target, reduction=self.reduction)\n"
     ]
    },
    {
     "name": "stdout",
     "output_type": "stream",
     "text": [
      "Loss after 97472 batches: 0.0948\n",
      "Adjusting learning rate of group 0 to 1.2925e-04.\n"
     ]
    },
    {
     "name": "stderr",
     "output_type": "stream",
     "text": [
      "C:\\Users\\aar245.CORNELL\\Anaconda3\\envs\\mlenv\\lib\\site-packages\\torch\\nn\\modules\\loss.py:446: UserWarning: Using a target size (torch.Size([1, 15])) that is different to the input size (torch.Size([15])). This will likely lead to incorrect results due to broadcasting. Please ensure they have the same size.\n",
      "  return F.mse_loss(input, target, reduction=self.reduction)\n"
     ]
    },
    {
     "name": "stdout",
     "output_type": "stream",
     "text": [
      "Loss after 98995 batches: 0.0946\n",
      "Adjusting learning rate of group 0 to 1.2970e-04.\n"
     ]
    },
    {
     "name": "stderr",
     "output_type": "stream",
     "text": [
      "C:\\Users\\aar245.CORNELL\\Anaconda3\\envs\\mlenv\\lib\\site-packages\\torch\\nn\\modules\\loss.py:446: UserWarning: Using a target size (torch.Size([1, 15])) that is different to the input size (torch.Size([15])). This will likely lead to incorrect results due to broadcasting. Please ensure they have the same size.\n",
      "  return F.mse_loss(input, target, reduction=self.reduction)\n"
     ]
    },
    {
     "name": "stdout",
     "output_type": "stream",
     "text": [
      "Loss after 100518 batches: 0.0946\n",
      "Adjusting learning rate of group 0 to 1.3015e-04.\n"
     ]
    },
    {
     "name": "stderr",
     "output_type": "stream",
     "text": [
      "C:\\Users\\aar245.CORNELL\\Anaconda3\\envs\\mlenv\\lib\\site-packages\\torch\\nn\\modules\\loss.py:446: UserWarning: Using a target size (torch.Size([1, 15])) that is different to the input size (torch.Size([15])). This will likely lead to incorrect results due to broadcasting. Please ensure they have the same size.\n",
      "  return F.mse_loss(input, target, reduction=self.reduction)\n"
     ]
    },
    {
     "name": "stdout",
     "output_type": "stream",
     "text": [
      "Loss after 102041 batches: 0.0945\n",
      "Adjusting learning rate of group 0 to 1.3060e-04.\n"
     ]
    },
    {
     "name": "stderr",
     "output_type": "stream",
     "text": [
      "C:\\Users\\aar245.CORNELL\\Anaconda3\\envs\\mlenv\\lib\\site-packages\\torch\\nn\\modules\\loss.py:446: UserWarning: Using a target size (torch.Size([1, 15])) that is different to the input size (torch.Size([15])). This will likely lead to incorrect results due to broadcasting. Please ensure they have the same size.\n",
      "  return F.mse_loss(input, target, reduction=self.reduction)\n"
     ]
    },
    {
     "name": "stdout",
     "output_type": "stream",
     "text": [
      "Loss after 103564 batches: 0.0939\n",
      "Adjusting learning rate of group 0 to 1.3105e-04.\n"
     ]
    },
    {
     "name": "stderr",
     "output_type": "stream",
     "text": [
      "C:\\Users\\aar245.CORNELL\\Anaconda3\\envs\\mlenv\\lib\\site-packages\\torch\\nn\\modules\\loss.py:446: UserWarning: Using a target size (torch.Size([1, 15])) that is different to the input size (torch.Size([15])). This will likely lead to incorrect results due to broadcasting. Please ensure they have the same size.\n",
      "  return F.mse_loss(input, target, reduction=self.reduction)\n"
     ]
    },
    {
     "name": "stdout",
     "output_type": "stream",
     "text": [
      "Loss after 105087 batches: 0.0942\n",
      "Adjusting learning rate of group 0 to 1.3150e-04.\n"
     ]
    },
    {
     "name": "stderr",
     "output_type": "stream",
     "text": [
      "C:\\Users\\aar245.CORNELL\\Anaconda3\\envs\\mlenv\\lib\\site-packages\\torch\\nn\\modules\\loss.py:446: UserWarning: Using a target size (torch.Size([1, 15])) that is different to the input size (torch.Size([15])). This will likely lead to incorrect results due to broadcasting. Please ensure they have the same size.\n",
      "  return F.mse_loss(input, target, reduction=self.reduction)\n"
     ]
    },
    {
     "name": "stdout",
     "output_type": "stream",
     "text": [
      "Loss after 106610 batches: 0.0947\n",
      "Adjusting learning rate of group 0 to 1.3195e-04.\n"
     ]
    },
    {
     "name": "stderr",
     "output_type": "stream",
     "text": [
      "C:\\Users\\aar245.CORNELL\\Anaconda3\\envs\\mlenv\\lib\\site-packages\\torch\\nn\\modules\\loss.py:446: UserWarning: Using a target size (torch.Size([1, 15])) that is different to the input size (torch.Size([15])). This will likely lead to incorrect results due to broadcasting. Please ensure they have the same size.\n",
      "  return F.mse_loss(input, target, reduction=self.reduction)\n"
     ]
    },
    {
     "name": "stdout",
     "output_type": "stream",
     "text": [
      "Loss after 108133 batches: 0.0932\n",
      "Adjusting learning rate of group 0 to 1.3240e-04.\n"
     ]
    },
    {
     "name": "stderr",
     "output_type": "stream",
     "text": [
      "C:\\Users\\aar245.CORNELL\\Anaconda3\\envs\\mlenv\\lib\\site-packages\\torch\\nn\\modules\\loss.py:446: UserWarning: Using a target size (torch.Size([1, 15])) that is different to the input size (torch.Size([15])). This will likely lead to incorrect results due to broadcasting. Please ensure they have the same size.\n",
      "  return F.mse_loss(input, target, reduction=self.reduction)\n"
     ]
    },
    {
     "name": "stdout",
     "output_type": "stream",
     "text": [
      "Loss after 109656 batches: 0.0938\n",
      "Adjusting learning rate of group 0 to 1.3285e-04.\n"
     ]
    },
    {
     "name": "stderr",
     "output_type": "stream",
     "text": [
      "C:\\Users\\aar245.CORNELL\\Anaconda3\\envs\\mlenv\\lib\\site-packages\\torch\\nn\\modules\\loss.py:446: UserWarning: Using a target size (torch.Size([1, 15])) that is different to the input size (torch.Size([15])). This will likely lead to incorrect results due to broadcasting. Please ensure they have the same size.\n",
      "  return F.mse_loss(input, target, reduction=self.reduction)\n"
     ]
    },
    {
     "name": "stdout",
     "output_type": "stream",
     "text": [
      "Loss after 111179 batches: 0.0938\n",
      "Adjusting learning rate of group 0 to 1.3330e-04.\n"
     ]
    },
    {
     "name": "stderr",
     "output_type": "stream",
     "text": [
      "C:\\Users\\aar245.CORNELL\\Anaconda3\\envs\\mlenv\\lib\\site-packages\\torch\\nn\\modules\\loss.py:446: UserWarning: Using a target size (torch.Size([1, 15])) that is different to the input size (torch.Size([15])). This will likely lead to incorrect results due to broadcasting. Please ensure they have the same size.\n",
      "  return F.mse_loss(input, target, reduction=self.reduction)\n"
     ]
    },
    {
     "name": "stdout",
     "output_type": "stream",
     "text": [
      "Loss after 112702 batches: 0.0935\n",
      "Adjusting learning rate of group 0 to 1.3375e-04.\n"
     ]
    },
    {
     "name": "stderr",
     "output_type": "stream",
     "text": [
      "C:\\Users\\aar245.CORNELL\\Anaconda3\\envs\\mlenv\\lib\\site-packages\\torch\\nn\\modules\\loss.py:446: UserWarning: Using a target size (torch.Size([1, 15])) that is different to the input size (torch.Size([15])). This will likely lead to incorrect results due to broadcasting. Please ensure they have the same size.\n",
      "  return F.mse_loss(input, target, reduction=self.reduction)\n"
     ]
    },
    {
     "name": "stdout",
     "output_type": "stream",
     "text": [
      "Loss after 114225 batches: 0.0936\n",
      "Adjusting learning rate of group 0 to 1.3420e-04.\n"
     ]
    },
    {
     "name": "stderr",
     "output_type": "stream",
     "text": [
      "C:\\Users\\aar245.CORNELL\\Anaconda3\\envs\\mlenv\\lib\\site-packages\\torch\\nn\\modules\\loss.py:446: UserWarning: Using a target size (torch.Size([1, 15])) that is different to the input size (torch.Size([15])). This will likely lead to incorrect results due to broadcasting. Please ensure they have the same size.\n",
      "  return F.mse_loss(input, target, reduction=self.reduction)\n"
     ]
    },
    {
     "name": "stdout",
     "output_type": "stream",
     "text": [
      "Loss after 115748 batches: 0.0957\n",
      "Adjusting learning rate of group 0 to 1.3465e-04.\n"
     ]
    },
    {
     "name": "stderr",
     "output_type": "stream",
     "text": [
      "C:\\Users\\aar245.CORNELL\\Anaconda3\\envs\\mlenv\\lib\\site-packages\\torch\\nn\\modules\\loss.py:446: UserWarning: Using a target size (torch.Size([1, 15])) that is different to the input size (torch.Size([15])). This will likely lead to incorrect results due to broadcasting. Please ensure they have the same size.\n",
      "  return F.mse_loss(input, target, reduction=self.reduction)\n"
     ]
    },
    {
     "name": "stdout",
     "output_type": "stream",
     "text": [
      "Loss after 117271 batches: 0.0936\n",
      "Adjusting learning rate of group 0 to 1.3510e-04.\n"
     ]
    },
    {
     "name": "stderr",
     "output_type": "stream",
     "text": [
      "C:\\Users\\aar245.CORNELL\\Anaconda3\\envs\\mlenv\\lib\\site-packages\\torch\\nn\\modules\\loss.py:446: UserWarning: Using a target size (torch.Size([1, 15])) that is different to the input size (torch.Size([15])). This will likely lead to incorrect results due to broadcasting. Please ensure they have the same size.\n",
      "  return F.mse_loss(input, target, reduction=self.reduction)\n"
     ]
    },
    {
     "name": "stdout",
     "output_type": "stream",
     "text": [
      "Loss after 118794 batches: 0.0930\n",
      "Adjusting learning rate of group 0 to 1.3555e-04.\n"
     ]
    },
    {
     "name": "stderr",
     "output_type": "stream",
     "text": [
      "C:\\Users\\aar245.CORNELL\\Anaconda3\\envs\\mlenv\\lib\\site-packages\\torch\\nn\\modules\\loss.py:446: UserWarning: Using a target size (torch.Size([1, 15])) that is different to the input size (torch.Size([15])). This will likely lead to incorrect results due to broadcasting. Please ensure they have the same size.\n",
      "  return F.mse_loss(input, target, reduction=self.reduction)\n"
     ]
    },
    {
     "name": "stdout",
     "output_type": "stream",
     "text": [
      "Loss after 120317 batches: 0.0925\n",
      "Adjusting learning rate of group 0 to 1.3600e-04.\n"
     ]
    },
    {
     "name": "stderr",
     "output_type": "stream",
     "text": [
      "C:\\Users\\aar245.CORNELL\\Anaconda3\\envs\\mlenv\\lib\\site-packages\\torch\\nn\\modules\\loss.py:446: UserWarning: Using a target size (torch.Size([1, 15])) that is different to the input size (torch.Size([15])). This will likely lead to incorrect results due to broadcasting. Please ensure they have the same size.\n",
      "  return F.mse_loss(input, target, reduction=self.reduction)\n"
     ]
    },
    {
     "name": "stdout",
     "output_type": "stream",
     "text": [
      "Loss after 121840 batches: 0.0936\n",
      "Adjusting learning rate of group 0 to 1.3645e-04.\n"
     ]
    },
    {
     "name": "stderr",
     "output_type": "stream",
     "text": [
      "C:\\Users\\aar245.CORNELL\\Anaconda3\\envs\\mlenv\\lib\\site-packages\\torch\\nn\\modules\\loss.py:446: UserWarning: Using a target size (torch.Size([1, 15])) that is different to the input size (torch.Size([15])). This will likely lead to incorrect results due to broadcasting. Please ensure they have the same size.\n",
      "  return F.mse_loss(input, target, reduction=self.reduction)\n"
     ]
    },
    {
     "name": "stdout",
     "output_type": "stream",
     "text": [
      "Loss after 123363 batches: 0.0931\n",
      "Adjusting learning rate of group 0 to 1.3690e-04.\n"
     ]
    },
    {
     "name": "stderr",
     "output_type": "stream",
     "text": [
      "C:\\Users\\aar245.CORNELL\\Anaconda3\\envs\\mlenv\\lib\\site-packages\\torch\\nn\\modules\\loss.py:446: UserWarning: Using a target size (torch.Size([1, 15])) that is different to the input size (torch.Size([15])). This will likely lead to incorrect results due to broadcasting. Please ensure they have the same size.\n",
      "  return F.mse_loss(input, target, reduction=self.reduction)\n"
     ]
    },
    {
     "name": "stdout",
     "output_type": "stream",
     "text": [
      "Loss after 124886 batches: 0.0927\n",
      "Adjusting learning rate of group 0 to 1.3735e-04.\n"
     ]
    },
    {
     "name": "stderr",
     "output_type": "stream",
     "text": [
      "C:\\Users\\aar245.CORNELL\\Anaconda3\\envs\\mlenv\\lib\\site-packages\\torch\\nn\\modules\\loss.py:446: UserWarning: Using a target size (torch.Size([1, 15])) that is different to the input size (torch.Size([15])). This will likely lead to incorrect results due to broadcasting. Please ensure they have the same size.\n",
      "  return F.mse_loss(input, target, reduction=self.reduction)\n"
     ]
    },
    {
     "name": "stdout",
     "output_type": "stream",
     "text": [
      "Loss after 126409 batches: 0.0922\n",
      "Adjusting learning rate of group 0 to 1.3780e-04.\n"
     ]
    },
    {
     "name": "stderr",
     "output_type": "stream",
     "text": [
      "C:\\Users\\aar245.CORNELL\\Anaconda3\\envs\\mlenv\\lib\\site-packages\\torch\\nn\\modules\\loss.py:446: UserWarning: Using a target size (torch.Size([1, 15])) that is different to the input size (torch.Size([15])). This will likely lead to incorrect results due to broadcasting. Please ensure they have the same size.\n",
      "  return F.mse_loss(input, target, reduction=self.reduction)\n"
     ]
    },
    {
     "name": "stdout",
     "output_type": "stream",
     "text": [
      "Loss after 127932 batches: 0.0935\n",
      "Adjusting learning rate of group 0 to 1.3825e-04.\n"
     ]
    },
    {
     "name": "stderr",
     "output_type": "stream",
     "text": [
      "C:\\Users\\aar245.CORNELL\\Anaconda3\\envs\\mlenv\\lib\\site-packages\\torch\\nn\\modules\\loss.py:446: UserWarning: Using a target size (torch.Size([1, 15])) that is different to the input size (torch.Size([15])). This will likely lead to incorrect results due to broadcasting. Please ensure they have the same size.\n",
      "  return F.mse_loss(input, target, reduction=self.reduction)\n"
     ]
    },
    {
     "name": "stdout",
     "output_type": "stream",
     "text": [
      "Loss after 129455 batches: 0.0930\n",
      "Adjusting learning rate of group 0 to 1.3870e-04.\n"
     ]
    },
    {
     "name": "stderr",
     "output_type": "stream",
     "text": [
      "C:\\Users\\aar245.CORNELL\\Anaconda3\\envs\\mlenv\\lib\\site-packages\\torch\\nn\\modules\\loss.py:446: UserWarning: Using a target size (torch.Size([1, 15])) that is different to the input size (torch.Size([15])). This will likely lead to incorrect results due to broadcasting. Please ensure they have the same size.\n",
      "  return F.mse_loss(input, target, reduction=self.reduction)\n"
     ]
    },
    {
     "name": "stdout",
     "output_type": "stream",
     "text": [
      "Loss after 130978 batches: 0.0924\n",
      "Adjusting learning rate of group 0 to 1.3915e-04.\n"
     ]
    },
    {
     "name": "stderr",
     "output_type": "stream",
     "text": [
      "C:\\Users\\aar245.CORNELL\\Anaconda3\\envs\\mlenv\\lib\\site-packages\\torch\\nn\\modules\\loss.py:446: UserWarning: Using a target size (torch.Size([1, 15])) that is different to the input size (torch.Size([15])). This will likely lead to incorrect results due to broadcasting. Please ensure they have the same size.\n",
      "  return F.mse_loss(input, target, reduction=self.reduction)\n"
     ]
    },
    {
     "name": "stdout",
     "output_type": "stream",
     "text": [
      "Loss after 132501 batches: 0.0920\n",
      "Adjusting learning rate of group 0 to 1.3960e-04.\n"
     ]
    },
    {
     "name": "stderr",
     "output_type": "stream",
     "text": [
      "C:\\Users\\aar245.CORNELL\\Anaconda3\\envs\\mlenv\\lib\\site-packages\\torch\\nn\\modules\\loss.py:446: UserWarning: Using a target size (torch.Size([1, 15])) that is different to the input size (torch.Size([15])). This will likely lead to incorrect results due to broadcasting. Please ensure they have the same size.\n",
      "  return F.mse_loss(input, target, reduction=self.reduction)\n"
     ]
    },
    {
     "name": "stdout",
     "output_type": "stream",
     "text": [
      "Loss after 134024 batches: 0.0916\n",
      "Adjusting learning rate of group 0 to 1.4005e-04.\n"
     ]
    },
    {
     "name": "stderr",
     "output_type": "stream",
     "text": [
      "C:\\Users\\aar245.CORNELL\\Anaconda3\\envs\\mlenv\\lib\\site-packages\\torch\\nn\\modules\\loss.py:446: UserWarning: Using a target size (torch.Size([1, 15])) that is different to the input size (torch.Size([15])). This will likely lead to incorrect results due to broadcasting. Please ensure they have the same size.\n",
      "  return F.mse_loss(input, target, reduction=self.reduction)\n"
     ]
    },
    {
     "name": "stdout",
     "output_type": "stream",
     "text": [
      "Loss after 135547 batches: 0.0919\n",
      "Adjusting learning rate of group 0 to 1.4050e-04.\n"
     ]
    },
    {
     "name": "stderr",
     "output_type": "stream",
     "text": [
      "C:\\Users\\aar245.CORNELL\\Anaconda3\\envs\\mlenv\\lib\\site-packages\\torch\\nn\\modules\\loss.py:446: UserWarning: Using a target size (torch.Size([1, 15])) that is different to the input size (torch.Size([15])). This will likely lead to incorrect results due to broadcasting. Please ensure they have the same size.\n",
      "  return F.mse_loss(input, target, reduction=self.reduction)\n"
     ]
    },
    {
     "name": "stdout",
     "output_type": "stream",
     "text": [
      "Loss after 137070 batches: 0.0921\n",
      "Adjusting learning rate of group 0 to 1.4095e-04.\n"
     ]
    },
    {
     "name": "stderr",
     "output_type": "stream",
     "text": [
      "C:\\Users\\aar245.CORNELL\\Anaconda3\\envs\\mlenv\\lib\\site-packages\\torch\\nn\\modules\\loss.py:446: UserWarning: Using a target size (torch.Size([1, 15])) that is different to the input size (torch.Size([15])). This will likely lead to incorrect results due to broadcasting. Please ensure they have the same size.\n",
      "  return F.mse_loss(input, target, reduction=self.reduction)\n"
     ]
    },
    {
     "name": "stdout",
     "output_type": "stream",
     "text": [
      "Loss after 138593 batches: 0.0920\n",
      "Adjusting learning rate of group 0 to 1.4140e-04.\n"
     ]
    },
    {
     "name": "stderr",
     "output_type": "stream",
     "text": [
      "C:\\Users\\aar245.CORNELL\\Anaconda3\\envs\\mlenv\\lib\\site-packages\\torch\\nn\\modules\\loss.py:446: UserWarning: Using a target size (torch.Size([1, 15])) that is different to the input size (torch.Size([15])). This will likely lead to incorrect results due to broadcasting. Please ensure they have the same size.\n",
      "  return F.mse_loss(input, target, reduction=self.reduction)\n"
     ]
    },
    {
     "name": "stdout",
     "output_type": "stream",
     "text": [
      "Loss after 140116 batches: 0.0918\n",
      "Adjusting learning rate of group 0 to 1.4185e-04.\n"
     ]
    },
    {
     "name": "stderr",
     "output_type": "stream",
     "text": [
      "C:\\Users\\aar245.CORNELL\\Anaconda3\\envs\\mlenv\\lib\\site-packages\\torch\\nn\\modules\\loss.py:446: UserWarning: Using a target size (torch.Size([1, 15])) that is different to the input size (torch.Size([15])). This will likely lead to incorrect results due to broadcasting. Please ensure they have the same size.\n",
      "  return F.mse_loss(input, target, reduction=self.reduction)\n"
     ]
    },
    {
     "name": "stdout",
     "output_type": "stream",
     "text": [
      "Loss after 141639 batches: 0.0925\n",
      "Adjusting learning rate of group 0 to 1.4230e-04.\n"
     ]
    },
    {
     "name": "stderr",
     "output_type": "stream",
     "text": [
      "C:\\Users\\aar245.CORNELL\\Anaconda3\\envs\\mlenv\\lib\\site-packages\\torch\\nn\\modules\\loss.py:446: UserWarning: Using a target size (torch.Size([1, 15])) that is different to the input size (torch.Size([15])). This will likely lead to incorrect results due to broadcasting. Please ensure they have the same size.\n",
      "  return F.mse_loss(input, target, reduction=self.reduction)\n"
     ]
    },
    {
     "name": "stdout",
     "output_type": "stream",
     "text": [
      "Loss after 143162 batches: 0.0917\n",
      "Adjusting learning rate of group 0 to 1.4275e-04.\n"
     ]
    },
    {
     "name": "stderr",
     "output_type": "stream",
     "text": [
      "C:\\Users\\aar245.CORNELL\\Anaconda3\\envs\\mlenv\\lib\\site-packages\\torch\\nn\\modules\\loss.py:446: UserWarning: Using a target size (torch.Size([1, 15])) that is different to the input size (torch.Size([15])). This will likely lead to incorrect results due to broadcasting. Please ensure they have the same size.\n",
      "  return F.mse_loss(input, target, reduction=self.reduction)\n"
     ]
    },
    {
     "name": "stdout",
     "output_type": "stream",
     "text": [
      "Loss after 144685 batches: 0.0907\n",
      "Adjusting learning rate of group 0 to 1.4320e-04.\n"
     ]
    },
    {
     "name": "stderr",
     "output_type": "stream",
     "text": [
      "C:\\Users\\aar245.CORNELL\\Anaconda3\\envs\\mlenv\\lib\\site-packages\\torch\\nn\\modules\\loss.py:446: UserWarning: Using a target size (torch.Size([1, 15])) that is different to the input size (torch.Size([15])). This will likely lead to incorrect results due to broadcasting. Please ensure they have the same size.\n",
      "  return F.mse_loss(input, target, reduction=self.reduction)\n"
     ]
    },
    {
     "name": "stdout",
     "output_type": "stream",
     "text": [
      "Loss after 146208 batches: 0.0918\n",
      "Adjusting learning rate of group 0 to 1.4365e-04.\n"
     ]
    },
    {
     "name": "stderr",
     "output_type": "stream",
     "text": [
      "C:\\Users\\aar245.CORNELL\\Anaconda3\\envs\\mlenv\\lib\\site-packages\\torch\\nn\\modules\\loss.py:446: UserWarning: Using a target size (torch.Size([1, 15])) that is different to the input size (torch.Size([15])). This will likely lead to incorrect results due to broadcasting. Please ensure they have the same size.\n",
      "  return F.mse_loss(input, target, reduction=self.reduction)\n"
     ]
    },
    {
     "name": "stdout",
     "output_type": "stream",
     "text": [
      "Loss after 147731 batches: 0.0915\n",
      "Adjusting learning rate of group 0 to 1.4410e-04.\n"
     ]
    },
    {
     "name": "stderr",
     "output_type": "stream",
     "text": [
      "C:\\Users\\aar245.CORNELL\\Anaconda3\\envs\\mlenv\\lib\\site-packages\\torch\\nn\\modules\\loss.py:446: UserWarning: Using a target size (torch.Size([1, 15])) that is different to the input size (torch.Size([15])). This will likely lead to incorrect results due to broadcasting. Please ensure they have the same size.\n",
      "  return F.mse_loss(input, target, reduction=self.reduction)\n"
     ]
    },
    {
     "name": "stdout",
     "output_type": "stream",
     "text": [
      "Loss after 149254 batches: 0.0910\n",
      "Adjusting learning rate of group 0 to 1.4455e-04.\n"
     ]
    },
    {
     "name": "stderr",
     "output_type": "stream",
     "text": [
      "C:\\Users\\aar245.CORNELL\\Anaconda3\\envs\\mlenv\\lib\\site-packages\\torch\\nn\\modules\\loss.py:446: UserWarning: Using a target size (torch.Size([1, 15])) that is different to the input size (torch.Size([15])). This will likely lead to incorrect results due to broadcasting. Please ensure they have the same size.\n",
      "  return F.mse_loss(input, target, reduction=self.reduction)\n"
     ]
    },
    {
     "name": "stdout",
     "output_type": "stream",
     "text": [
      "Loss after 150777 batches: 0.0915\n",
      "Adjusting learning rate of group 0 to 1.4500e-04.\n"
     ]
    },
    {
     "name": "stderr",
     "output_type": "stream",
     "text": [
      "C:\\Users\\aar245.CORNELL\\Anaconda3\\envs\\mlenv\\lib\\site-packages\\torch\\nn\\modules\\loss.py:446: UserWarning: Using a target size (torch.Size([1, 15])) that is different to the input size (torch.Size([15])). This will likely lead to incorrect results due to broadcasting. Please ensure they have the same size.\n",
      "  return F.mse_loss(input, target, reduction=self.reduction)\n"
     ]
    },
    {
     "name": "stdout",
     "output_type": "stream",
     "text": [
      "Loss after 152300 batches: 0.0909\n",
      "Adjusting learning rate of group 0 to 1.4545e-04.\n"
     ]
    },
    {
     "name": "stderr",
     "output_type": "stream",
     "text": [
      "C:\\Users\\aar245.CORNELL\\Anaconda3\\envs\\mlenv\\lib\\site-packages\\torch\\nn\\modules\\loss.py:446: UserWarning: Using a target size (torch.Size([1, 15])) that is different to the input size (torch.Size([15])). This will likely lead to incorrect results due to broadcasting. Please ensure they have the same size.\n",
      "  return F.mse_loss(input, target, reduction=self.reduction)\n"
     ]
    },
    {
     "name": "stdout",
     "output_type": "stream",
     "text": [
      "Loss after 153823 batches: 0.0909\n",
      "Adjusting learning rate of group 0 to 1.4590e-04.\n"
     ]
    },
    {
     "name": "stderr",
     "output_type": "stream",
     "text": [
      "C:\\Users\\aar245.CORNELL\\Anaconda3\\envs\\mlenv\\lib\\site-packages\\torch\\nn\\modules\\loss.py:446: UserWarning: Using a target size (torch.Size([1, 15])) that is different to the input size (torch.Size([15])). This will likely lead to incorrect results due to broadcasting. Please ensure they have the same size.\n",
      "  return F.mse_loss(input, target, reduction=self.reduction)\n"
     ]
    },
    {
     "name": "stdout",
     "output_type": "stream",
     "text": [
      "Loss after 155346 batches: 0.0911\n",
      "Adjusting learning rate of group 0 to 1.4635e-04.\n"
     ]
    },
    {
     "name": "stderr",
     "output_type": "stream",
     "text": [
      "C:\\Users\\aar245.CORNELL\\Anaconda3\\envs\\mlenv\\lib\\site-packages\\torch\\nn\\modules\\loss.py:446: UserWarning: Using a target size (torch.Size([1, 15])) that is different to the input size (torch.Size([15])). This will likely lead to incorrect results due to broadcasting. Please ensure they have the same size.\n",
      "  return F.mse_loss(input, target, reduction=self.reduction)\n"
     ]
    },
    {
     "name": "stdout",
     "output_type": "stream",
     "text": [
      "Loss after 156869 batches: 0.0903\n",
      "Adjusting learning rate of group 0 to 1.4680e-04.\n"
     ]
    },
    {
     "name": "stderr",
     "output_type": "stream",
     "text": [
      "C:\\Users\\aar245.CORNELL\\Anaconda3\\envs\\mlenv\\lib\\site-packages\\torch\\nn\\modules\\loss.py:446: UserWarning: Using a target size (torch.Size([1, 15])) that is different to the input size (torch.Size([15])). This will likely lead to incorrect results due to broadcasting. Please ensure they have the same size.\n",
      "  return F.mse_loss(input, target, reduction=self.reduction)\n"
     ]
    },
    {
     "name": "stdout",
     "output_type": "stream",
     "text": [
      "Loss after 158392 batches: 0.0894\n",
      "Adjusting learning rate of group 0 to 1.4725e-04.\n"
     ]
    },
    {
     "name": "stderr",
     "output_type": "stream",
     "text": [
      "C:\\Users\\aar245.CORNELL\\Anaconda3\\envs\\mlenv\\lib\\site-packages\\torch\\nn\\modules\\loss.py:446: UserWarning: Using a target size (torch.Size([1, 15])) that is different to the input size (torch.Size([15])). This will likely lead to incorrect results due to broadcasting. Please ensure they have the same size.\n",
      "  return F.mse_loss(input, target, reduction=self.reduction)\n"
     ]
    },
    {
     "name": "stdout",
     "output_type": "stream",
     "text": [
      "Loss after 159915 batches: 0.0918\n",
      "Adjusting learning rate of group 0 to 1.4770e-04.\n"
     ]
    },
    {
     "name": "stderr",
     "output_type": "stream",
     "text": [
      "C:\\Users\\aar245.CORNELL\\Anaconda3\\envs\\mlenv\\lib\\site-packages\\torch\\nn\\modules\\loss.py:446: UserWarning: Using a target size (torch.Size([1, 15])) that is different to the input size (torch.Size([15])). This will likely lead to incorrect results due to broadcasting. Please ensure they have the same size.\n",
      "  return F.mse_loss(input, target, reduction=self.reduction)\n"
     ]
    },
    {
     "name": "stdout",
     "output_type": "stream",
     "text": [
      "Loss after 161438 batches: 0.0894\n",
      "Adjusting learning rate of group 0 to 1.4815e-04.\n"
     ]
    },
    {
     "name": "stderr",
     "output_type": "stream",
     "text": [
      "C:\\Users\\aar245.CORNELL\\Anaconda3\\envs\\mlenv\\lib\\site-packages\\torch\\nn\\modules\\loss.py:446: UserWarning: Using a target size (torch.Size([1, 15])) that is different to the input size (torch.Size([15])). This will likely lead to incorrect results due to broadcasting. Please ensure they have the same size.\n",
      "  return F.mse_loss(input, target, reduction=self.reduction)\n"
     ]
    },
    {
     "name": "stdout",
     "output_type": "stream",
     "text": [
      "Loss after 162961 batches: 0.0913\n",
      "Adjusting learning rate of group 0 to 1.4860e-04.\n"
     ]
    },
    {
     "name": "stderr",
     "output_type": "stream",
     "text": [
      "C:\\Users\\aar245.CORNELL\\Anaconda3\\envs\\mlenv\\lib\\site-packages\\torch\\nn\\modules\\loss.py:446: UserWarning: Using a target size (torch.Size([1, 15])) that is different to the input size (torch.Size([15])). This will likely lead to incorrect results due to broadcasting. Please ensure they have the same size.\n",
      "  return F.mse_loss(input, target, reduction=self.reduction)\n"
     ]
    },
    {
     "name": "stdout",
     "output_type": "stream",
     "text": [
      "Loss after 164484 batches: 0.0902\n",
      "Adjusting learning rate of group 0 to 1.4905e-04.\n"
     ]
    },
    {
     "name": "stderr",
     "output_type": "stream",
     "text": [
      "C:\\Users\\aar245.CORNELL\\Anaconda3\\envs\\mlenv\\lib\\site-packages\\torch\\nn\\modules\\loss.py:446: UserWarning: Using a target size (torch.Size([1, 15])) that is different to the input size (torch.Size([15])). This will likely lead to incorrect results due to broadcasting. Please ensure they have the same size.\n",
      "  return F.mse_loss(input, target, reduction=self.reduction)\n"
     ]
    },
    {
     "name": "stdout",
     "output_type": "stream",
     "text": [
      "Loss after 166007 batches: 0.0897\n",
      "Adjusting learning rate of group 0 to 1.4950e-04.\n"
     ]
    },
    {
     "name": "stderr",
     "output_type": "stream",
     "text": [
      "C:\\Users\\aar245.CORNELL\\Anaconda3\\envs\\mlenv\\lib\\site-packages\\torch\\nn\\modules\\loss.py:446: UserWarning: Using a target size (torch.Size([1, 15])) that is different to the input size (torch.Size([15])). This will likely lead to incorrect results due to broadcasting. Please ensure they have the same size.\n",
      "  return F.mse_loss(input, target, reduction=self.reduction)\n"
     ]
    },
    {
     "name": "stdout",
     "output_type": "stream",
     "text": [
      "Loss after 167530 batches: 0.0901\n",
      "Adjusting learning rate of group 0 to 1.4995e-04.\n"
     ]
    },
    {
     "name": "stderr",
     "output_type": "stream",
     "text": [
      "C:\\Users\\aar245.CORNELL\\Anaconda3\\envs\\mlenv\\lib\\site-packages\\torch\\nn\\modules\\loss.py:446: UserWarning: Using a target size (torch.Size([1, 15])) that is different to the input size (torch.Size([15])). This will likely lead to incorrect results due to broadcasting. Please ensure they have the same size.\n",
      "  return F.mse_loss(input, target, reduction=self.reduction)\n"
     ]
    },
    {
     "name": "stdout",
     "output_type": "stream",
     "text": [
      "Loss after 169053 batches: 0.0906\n",
      "Adjusting learning rate of group 0 to 1.5040e-04.\n"
     ]
    },
    {
     "name": "stderr",
     "output_type": "stream",
     "text": [
      "C:\\Users\\aar245.CORNELL\\Anaconda3\\envs\\mlenv\\lib\\site-packages\\torch\\nn\\modules\\loss.py:446: UserWarning: Using a target size (torch.Size([1, 15])) that is different to the input size (torch.Size([15])). This will likely lead to incorrect results due to broadcasting. Please ensure they have the same size.\n",
      "  return F.mse_loss(input, target, reduction=self.reduction)\n"
     ]
    },
    {
     "name": "stdout",
     "output_type": "stream",
     "text": [
      "Loss after 170576 batches: 0.0898\n",
      "Adjusting learning rate of group 0 to 1.5085e-04.\n"
     ]
    },
    {
     "name": "stderr",
     "output_type": "stream",
     "text": [
      "C:\\Users\\aar245.CORNELL\\Anaconda3\\envs\\mlenv\\lib\\site-packages\\torch\\nn\\modules\\loss.py:446: UserWarning: Using a target size (torch.Size([1, 15])) that is different to the input size (torch.Size([15])). This will likely lead to incorrect results due to broadcasting. Please ensure they have the same size.\n",
      "  return F.mse_loss(input, target, reduction=self.reduction)\n"
     ]
    },
    {
     "name": "stdout",
     "output_type": "stream",
     "text": [
      "Loss after 172099 batches: 0.0907\n",
      "Adjusting learning rate of group 0 to 1.5130e-04.\n"
     ]
    },
    {
     "name": "stderr",
     "output_type": "stream",
     "text": [
      "C:\\Users\\aar245.CORNELL\\Anaconda3\\envs\\mlenv\\lib\\site-packages\\torch\\nn\\modules\\loss.py:446: UserWarning: Using a target size (torch.Size([1, 15])) that is different to the input size (torch.Size([15])). This will likely lead to incorrect results due to broadcasting. Please ensure they have the same size.\n",
      "  return F.mse_loss(input, target, reduction=self.reduction)\n"
     ]
    },
    {
     "name": "stdout",
     "output_type": "stream",
     "text": [
      "Loss after 173622 batches: 0.0898\n",
      "Adjusting learning rate of group 0 to 1.5175e-04.\n"
     ]
    },
    {
     "name": "stderr",
     "output_type": "stream",
     "text": [
      "C:\\Users\\aar245.CORNELL\\Anaconda3\\envs\\mlenv\\lib\\site-packages\\torch\\nn\\modules\\loss.py:446: UserWarning: Using a target size (torch.Size([1, 15])) that is different to the input size (torch.Size([15])). This will likely lead to incorrect results due to broadcasting. Please ensure they have the same size.\n",
      "  return F.mse_loss(input, target, reduction=self.reduction)\n"
     ]
    },
    {
     "name": "stdout",
     "output_type": "stream",
     "text": [
      "Loss after 175145 batches: 0.0899\n",
      "Adjusting learning rate of group 0 to 1.5220e-04.\n"
     ]
    },
    {
     "name": "stderr",
     "output_type": "stream",
     "text": [
      "C:\\Users\\aar245.CORNELL\\Anaconda3\\envs\\mlenv\\lib\\site-packages\\torch\\nn\\modules\\loss.py:446: UserWarning: Using a target size (torch.Size([1, 15])) that is different to the input size (torch.Size([15])). This will likely lead to incorrect results due to broadcasting. Please ensure they have the same size.\n",
      "  return F.mse_loss(input, target, reduction=self.reduction)\n"
     ]
    },
    {
     "name": "stdout",
     "output_type": "stream",
     "text": [
      "Loss after 176668 batches: 0.0891\n",
      "Adjusting learning rate of group 0 to 1.5265e-04.\n"
     ]
    },
    {
     "name": "stderr",
     "output_type": "stream",
     "text": [
      "C:\\Users\\aar245.CORNELL\\Anaconda3\\envs\\mlenv\\lib\\site-packages\\torch\\nn\\modules\\loss.py:446: UserWarning: Using a target size (torch.Size([1, 15])) that is different to the input size (torch.Size([15])). This will likely lead to incorrect results due to broadcasting. Please ensure they have the same size.\n",
      "  return F.mse_loss(input, target, reduction=self.reduction)\n"
     ]
    },
    {
     "name": "stdout",
     "output_type": "stream",
     "text": [
      "Loss after 178191 batches: 0.0896\n",
      "Adjusting learning rate of group 0 to 1.5310e-04.\n"
     ]
    },
    {
     "name": "stderr",
     "output_type": "stream",
     "text": [
      "C:\\Users\\aar245.CORNELL\\Anaconda3\\envs\\mlenv\\lib\\site-packages\\torch\\nn\\modules\\loss.py:446: UserWarning: Using a target size (torch.Size([1, 15])) that is different to the input size (torch.Size([15])). This will likely lead to incorrect results due to broadcasting. Please ensure they have the same size.\n",
      "  return F.mse_loss(input, target, reduction=self.reduction)\n"
     ]
    },
    {
     "name": "stdout",
     "output_type": "stream",
     "text": [
      "Loss after 179714 batches: 0.0891\n",
      "Adjusting learning rate of group 0 to 1.5355e-04.\n"
     ]
    },
    {
     "name": "stderr",
     "output_type": "stream",
     "text": [
      "C:\\Users\\aar245.CORNELL\\Anaconda3\\envs\\mlenv\\lib\\site-packages\\torch\\nn\\modules\\loss.py:446: UserWarning: Using a target size (torch.Size([1, 15])) that is different to the input size (torch.Size([15])). This will likely lead to incorrect results due to broadcasting. Please ensure they have the same size.\n",
      "  return F.mse_loss(input, target, reduction=self.reduction)\n"
     ]
    },
    {
     "name": "stdout",
     "output_type": "stream",
     "text": [
      "Loss after 181237 batches: 0.0895\n",
      "Adjusting learning rate of group 0 to 1.5400e-04.\n"
     ]
    },
    {
     "name": "stderr",
     "output_type": "stream",
     "text": [
      "C:\\Users\\aar245.CORNELL\\Anaconda3\\envs\\mlenv\\lib\\site-packages\\torch\\nn\\modules\\loss.py:446: UserWarning: Using a target size (torch.Size([1, 15])) that is different to the input size (torch.Size([15])). This will likely lead to incorrect results due to broadcasting. Please ensure they have the same size.\n",
      "  return F.mse_loss(input, target, reduction=self.reduction)\n"
     ]
    },
    {
     "name": "stdout",
     "output_type": "stream",
     "text": [
      "Loss after 182760 batches: 0.0885\n",
      "Adjusting learning rate of group 0 to 1.5445e-04.\n"
     ]
    },
    {
     "name": "stderr",
     "output_type": "stream",
     "text": [
      "C:\\Users\\aar245.CORNELL\\Anaconda3\\envs\\mlenv\\lib\\site-packages\\torch\\nn\\modules\\loss.py:446: UserWarning: Using a target size (torch.Size([1, 15])) that is different to the input size (torch.Size([15])). This will likely lead to incorrect results due to broadcasting. Please ensure they have the same size.\n",
      "  return F.mse_loss(input, target, reduction=self.reduction)\n"
     ]
    },
    {
     "name": "stdout",
     "output_type": "stream",
     "text": [
      "Loss after 184283 batches: 0.0890\n",
      "Adjusting learning rate of group 0 to 1.5490e-04.\n"
     ]
    },
    {
     "name": "stderr",
     "output_type": "stream",
     "text": [
      "C:\\Users\\aar245.CORNELL\\Anaconda3\\envs\\mlenv\\lib\\site-packages\\torch\\nn\\modules\\loss.py:446: UserWarning: Using a target size (torch.Size([1, 15])) that is different to the input size (torch.Size([15])). This will likely lead to incorrect results due to broadcasting. Please ensure they have the same size.\n",
      "  return F.mse_loss(input, target, reduction=self.reduction)\n"
     ]
    },
    {
     "name": "stdout",
     "output_type": "stream",
     "text": [
      "Loss after 185806 batches: 0.0902\n",
      "Adjusting learning rate of group 0 to 1.5535e-04.\n"
     ]
    },
    {
     "name": "stderr",
     "output_type": "stream",
     "text": [
      "C:\\Users\\aar245.CORNELL\\Anaconda3\\envs\\mlenv\\lib\\site-packages\\torch\\nn\\modules\\loss.py:446: UserWarning: Using a target size (torch.Size([1, 15])) that is different to the input size (torch.Size([15])). This will likely lead to incorrect results due to broadcasting. Please ensure they have the same size.\n",
      "  return F.mse_loss(input, target, reduction=self.reduction)\n"
     ]
    },
    {
     "name": "stdout",
     "output_type": "stream",
     "text": [
      "Loss after 187329 batches: 0.0887\n",
      "Adjusting learning rate of group 0 to 1.5580e-04.\n"
     ]
    },
    {
     "name": "stderr",
     "output_type": "stream",
     "text": [
      "C:\\Users\\aar245.CORNELL\\Anaconda3\\envs\\mlenv\\lib\\site-packages\\torch\\nn\\modules\\loss.py:446: UserWarning: Using a target size (torch.Size([1, 15])) that is different to the input size (torch.Size([15])). This will likely lead to incorrect results due to broadcasting. Please ensure they have the same size.\n",
      "  return F.mse_loss(input, target, reduction=self.reduction)\n"
     ]
    },
    {
     "name": "stdout",
     "output_type": "stream",
     "text": [
      "Loss after 188852 batches: 0.0889\n",
      "Adjusting learning rate of group 0 to 1.5625e-04.\n"
     ]
    },
    {
     "name": "stderr",
     "output_type": "stream",
     "text": [
      "C:\\Users\\aar245.CORNELL\\Anaconda3\\envs\\mlenv\\lib\\site-packages\\torch\\nn\\modules\\loss.py:446: UserWarning: Using a target size (torch.Size([1, 15])) that is different to the input size (torch.Size([15])). This will likely lead to incorrect results due to broadcasting. Please ensure they have the same size.\n",
      "  return F.mse_loss(input, target, reduction=self.reduction)\n"
     ]
    },
    {
     "name": "stdout",
     "output_type": "stream",
     "text": [
      "Loss after 190375 batches: 0.0888\n",
      "Adjusting learning rate of group 0 to 1.5670e-04.\n"
     ]
    },
    {
     "name": "stderr",
     "output_type": "stream",
     "text": [
      "C:\\Users\\aar245.CORNELL\\Anaconda3\\envs\\mlenv\\lib\\site-packages\\torch\\nn\\modules\\loss.py:446: UserWarning: Using a target size (torch.Size([1, 15])) that is different to the input size (torch.Size([15])). This will likely lead to incorrect results due to broadcasting. Please ensure they have the same size.\n",
      "  return F.mse_loss(input, target, reduction=self.reduction)\n"
     ]
    },
    {
     "name": "stdout",
     "output_type": "stream",
     "text": [
      "Loss after 191898 batches: 0.0888\n",
      "Adjusting learning rate of group 0 to 1.5715e-04.\n"
     ]
    },
    {
     "name": "stderr",
     "output_type": "stream",
     "text": [
      "C:\\Users\\aar245.CORNELL\\Anaconda3\\envs\\mlenv\\lib\\site-packages\\torch\\nn\\modules\\loss.py:446: UserWarning: Using a target size (torch.Size([1, 15])) that is different to the input size (torch.Size([15])). This will likely lead to incorrect results due to broadcasting. Please ensure they have the same size.\n",
      "  return F.mse_loss(input, target, reduction=self.reduction)\n"
     ]
    },
    {
     "name": "stdout",
     "output_type": "stream",
     "text": [
      "Loss after 193421 batches: 0.0887\n",
      "Adjusting learning rate of group 0 to 1.5760e-04.\n"
     ]
    },
    {
     "name": "stderr",
     "output_type": "stream",
     "text": [
      "C:\\Users\\aar245.CORNELL\\Anaconda3\\envs\\mlenv\\lib\\site-packages\\torch\\nn\\modules\\loss.py:446: UserWarning: Using a target size (torch.Size([1, 15])) that is different to the input size (torch.Size([15])). This will likely lead to incorrect results due to broadcasting. Please ensure they have the same size.\n",
      "  return F.mse_loss(input, target, reduction=self.reduction)\n"
     ]
    },
    {
     "name": "stdout",
     "output_type": "stream",
     "text": [
      "Loss after 194944 batches: 0.0883\n",
      "Adjusting learning rate of group 0 to 1.5805e-04.\n"
     ]
    },
    {
     "name": "stderr",
     "output_type": "stream",
     "text": [
      "C:\\Users\\aar245.CORNELL\\Anaconda3\\envs\\mlenv\\lib\\site-packages\\torch\\nn\\modules\\loss.py:446: UserWarning: Using a target size (torch.Size([1, 15])) that is different to the input size (torch.Size([15])). This will likely lead to incorrect results due to broadcasting. Please ensure they have the same size.\n",
      "  return F.mse_loss(input, target, reduction=self.reduction)\n"
     ]
    },
    {
     "name": "stdout",
     "output_type": "stream",
     "text": [
      "Loss after 196467 batches: 0.0878\n",
      "Adjusting learning rate of group 0 to 1.5850e-04.\n"
     ]
    },
    {
     "name": "stderr",
     "output_type": "stream",
     "text": [
      "C:\\Users\\aar245.CORNELL\\Anaconda3\\envs\\mlenv\\lib\\site-packages\\torch\\nn\\modules\\loss.py:446: UserWarning: Using a target size (torch.Size([1, 15])) that is different to the input size (torch.Size([15])). This will likely lead to incorrect results due to broadcasting. Please ensure they have the same size.\n",
      "  return F.mse_loss(input, target, reduction=self.reduction)\n"
     ]
    },
    {
     "name": "stdout",
     "output_type": "stream",
     "text": [
      "Loss after 197990 batches: 0.0888\n",
      "Adjusting learning rate of group 0 to 1.5895e-04.\n"
     ]
    },
    {
     "name": "stderr",
     "output_type": "stream",
     "text": [
      "C:\\Users\\aar245.CORNELL\\Anaconda3\\envs\\mlenv\\lib\\site-packages\\torch\\nn\\modules\\loss.py:446: UserWarning: Using a target size (torch.Size([1, 15])) that is different to the input size (torch.Size([15])). This will likely lead to incorrect results due to broadcasting. Please ensure they have the same size.\n",
      "  return F.mse_loss(input, target, reduction=self.reduction)\n"
     ]
    },
    {
     "name": "stdout",
     "output_type": "stream",
     "text": [
      "Loss after 199513 batches: 0.0883\n",
      "Adjusting learning rate of group 0 to 1.5940e-04.\n"
     ]
    },
    {
     "name": "stderr",
     "output_type": "stream",
     "text": [
      "C:\\Users\\aar245.CORNELL\\Anaconda3\\envs\\mlenv\\lib\\site-packages\\torch\\nn\\modules\\loss.py:446: UserWarning: Using a target size (torch.Size([1, 15])) that is different to the input size (torch.Size([15])). This will likely lead to incorrect results due to broadcasting. Please ensure they have the same size.\n",
      "  return F.mse_loss(input, target, reduction=self.reduction)\n"
     ]
    },
    {
     "name": "stdout",
     "output_type": "stream",
     "text": [
      "Loss after 201036 batches: 0.0882\n",
      "Adjusting learning rate of group 0 to 1.5985e-04.\n"
     ]
    },
    {
     "name": "stderr",
     "output_type": "stream",
     "text": [
      "C:\\Users\\aar245.CORNELL\\Anaconda3\\envs\\mlenv\\lib\\site-packages\\torch\\nn\\modules\\loss.py:446: UserWarning: Using a target size (torch.Size([1, 15])) that is different to the input size (torch.Size([15])). This will likely lead to incorrect results due to broadcasting. Please ensure they have the same size.\n",
      "  return F.mse_loss(input, target, reduction=self.reduction)\n"
     ]
    },
    {
     "name": "stdout",
     "output_type": "stream",
     "text": [
      "Loss after 202559 batches: 0.0889\n",
      "Adjusting learning rate of group 0 to 1.6030e-04.\n"
     ]
    },
    {
     "name": "stderr",
     "output_type": "stream",
     "text": [
      "C:\\Users\\aar245.CORNELL\\Anaconda3\\envs\\mlenv\\lib\\site-packages\\torch\\nn\\modules\\loss.py:446: UserWarning: Using a target size (torch.Size([1, 15])) that is different to the input size (torch.Size([15])). This will likely lead to incorrect results due to broadcasting. Please ensure they have the same size.\n",
      "  return F.mse_loss(input, target, reduction=self.reduction)\n"
     ]
    },
    {
     "name": "stdout",
     "output_type": "stream",
     "text": [
      "Loss after 204082 batches: 0.0885\n",
      "Adjusting learning rate of group 0 to 1.6075e-04.\n"
     ]
    },
    {
     "name": "stderr",
     "output_type": "stream",
     "text": [
      "C:\\Users\\aar245.CORNELL\\Anaconda3\\envs\\mlenv\\lib\\site-packages\\torch\\nn\\modules\\loss.py:446: UserWarning: Using a target size (torch.Size([1, 15])) that is different to the input size (torch.Size([15])). This will likely lead to incorrect results due to broadcasting. Please ensure they have the same size.\n",
      "  return F.mse_loss(input, target, reduction=self.reduction)\n"
     ]
    },
    {
     "name": "stdout",
     "output_type": "stream",
     "text": [
      "Loss after 205605 batches: 0.0867\n",
      "Adjusting learning rate of group 0 to 1.6120e-04.\n"
     ]
    },
    {
     "name": "stderr",
     "output_type": "stream",
     "text": [
      "C:\\Users\\aar245.CORNELL\\Anaconda3\\envs\\mlenv\\lib\\site-packages\\torch\\nn\\modules\\loss.py:446: UserWarning: Using a target size (torch.Size([1, 15])) that is different to the input size (torch.Size([15])). This will likely lead to incorrect results due to broadcasting. Please ensure they have the same size.\n",
      "  return F.mse_loss(input, target, reduction=self.reduction)\n"
     ]
    },
    {
     "name": "stdout",
     "output_type": "stream",
     "text": [
      "Loss after 207128 batches: 0.0881\n",
      "Adjusting learning rate of group 0 to 1.6165e-04.\n"
     ]
    },
    {
     "name": "stderr",
     "output_type": "stream",
     "text": [
      "C:\\Users\\aar245.CORNELL\\Anaconda3\\envs\\mlenv\\lib\\site-packages\\torch\\nn\\modules\\loss.py:446: UserWarning: Using a target size (torch.Size([1, 15])) that is different to the input size (torch.Size([15])). This will likely lead to incorrect results due to broadcasting. Please ensure they have the same size.\n",
      "  return F.mse_loss(input, target, reduction=self.reduction)\n"
     ]
    },
    {
     "name": "stdout",
     "output_type": "stream",
     "text": [
      "Loss after 208651 batches: 0.0874\n",
      "Adjusting learning rate of group 0 to 1.6210e-04.\n"
     ]
    },
    {
     "name": "stderr",
     "output_type": "stream",
     "text": [
      "C:\\Users\\aar245.CORNELL\\Anaconda3\\envs\\mlenv\\lib\\site-packages\\torch\\nn\\modules\\loss.py:446: UserWarning: Using a target size (torch.Size([1, 15])) that is different to the input size (torch.Size([15])). This will likely lead to incorrect results due to broadcasting. Please ensure they have the same size.\n",
      "  return F.mse_loss(input, target, reduction=self.reduction)\n"
     ]
    },
    {
     "name": "stdout",
     "output_type": "stream",
     "text": [
      "Loss after 210174 batches: 0.0882\n",
      "Adjusting learning rate of group 0 to 1.6255e-04.\n"
     ]
    },
    {
     "name": "stderr",
     "output_type": "stream",
     "text": [
      "C:\\Users\\aar245.CORNELL\\Anaconda3\\envs\\mlenv\\lib\\site-packages\\torch\\nn\\modules\\loss.py:446: UserWarning: Using a target size (torch.Size([1, 15])) that is different to the input size (torch.Size([15])). This will likely lead to incorrect results due to broadcasting. Please ensure they have the same size.\n",
      "  return F.mse_loss(input, target, reduction=self.reduction)\n"
     ]
    },
    {
     "name": "stdout",
     "output_type": "stream",
     "text": [
      "Loss after 211697 batches: 0.0871\n",
      "Adjusting learning rate of group 0 to 1.6300e-04.\n"
     ]
    },
    {
     "name": "stderr",
     "output_type": "stream",
     "text": [
      "C:\\Users\\aar245.CORNELL\\Anaconda3\\envs\\mlenv\\lib\\site-packages\\torch\\nn\\modules\\loss.py:446: UserWarning: Using a target size (torch.Size([1, 15])) that is different to the input size (torch.Size([15])). This will likely lead to incorrect results due to broadcasting. Please ensure they have the same size.\n",
      "  return F.mse_loss(input, target, reduction=self.reduction)\n"
     ]
    },
    {
     "name": "stdout",
     "output_type": "stream",
     "text": [
      "Loss after 213220 batches: 0.0879\n",
      "Adjusting learning rate of group 0 to 1.6345e-04.\n"
     ]
    },
    {
     "name": "stderr",
     "output_type": "stream",
     "text": [
      "C:\\Users\\aar245.CORNELL\\Anaconda3\\envs\\mlenv\\lib\\site-packages\\torch\\nn\\modules\\loss.py:446: UserWarning: Using a target size (torch.Size([1, 15])) that is different to the input size (torch.Size([15])). This will likely lead to incorrect results due to broadcasting. Please ensure they have the same size.\n",
      "  return F.mse_loss(input, target, reduction=self.reduction)\n"
     ]
    },
    {
     "name": "stdout",
     "output_type": "stream",
     "text": [
      "Loss after 214743 batches: 0.0869\n",
      "Adjusting learning rate of group 0 to 1.6390e-04.\n"
     ]
    },
    {
     "name": "stderr",
     "output_type": "stream",
     "text": [
      "C:\\Users\\aar245.CORNELL\\Anaconda3\\envs\\mlenv\\lib\\site-packages\\torch\\nn\\modules\\loss.py:446: UserWarning: Using a target size (torch.Size([1, 15])) that is different to the input size (torch.Size([15])). This will likely lead to incorrect results due to broadcasting. Please ensure they have the same size.\n",
      "  return F.mse_loss(input, target, reduction=self.reduction)\n"
     ]
    },
    {
     "name": "stdout",
     "output_type": "stream",
     "text": [
      "Loss after 216266 batches: 0.0872\n",
      "Adjusting learning rate of group 0 to 1.6435e-04.\n"
     ]
    },
    {
     "name": "stderr",
     "output_type": "stream",
     "text": [
      "C:\\Users\\aar245.CORNELL\\Anaconda3\\envs\\mlenv\\lib\\site-packages\\torch\\nn\\modules\\loss.py:446: UserWarning: Using a target size (torch.Size([1, 15])) that is different to the input size (torch.Size([15])). This will likely lead to incorrect results due to broadcasting. Please ensure they have the same size.\n",
      "  return F.mse_loss(input, target, reduction=self.reduction)\n"
     ]
    },
    {
     "name": "stdout",
     "output_type": "stream",
     "text": [
      "Loss after 217789 batches: 0.0874\n",
      "Adjusting learning rate of group 0 to 1.6480e-04.\n"
     ]
    },
    {
     "name": "stderr",
     "output_type": "stream",
     "text": [
      "C:\\Users\\aar245.CORNELL\\Anaconda3\\envs\\mlenv\\lib\\site-packages\\torch\\nn\\modules\\loss.py:446: UserWarning: Using a target size (torch.Size([1, 15])) that is different to the input size (torch.Size([15])). This will likely lead to incorrect results due to broadcasting. Please ensure they have the same size.\n",
      "  return F.mse_loss(input, target, reduction=self.reduction)\n"
     ]
    },
    {
     "name": "stdout",
     "output_type": "stream",
     "text": [
      "Loss after 219312 batches: 0.0864\n",
      "Adjusting learning rate of group 0 to 1.6525e-04.\n"
     ]
    },
    {
     "name": "stderr",
     "output_type": "stream",
     "text": [
      "C:\\Users\\aar245.CORNELL\\Anaconda3\\envs\\mlenv\\lib\\site-packages\\torch\\nn\\modules\\loss.py:446: UserWarning: Using a target size (torch.Size([1, 15])) that is different to the input size (torch.Size([15])). This will likely lead to incorrect results due to broadcasting. Please ensure they have the same size.\n",
      "  return F.mse_loss(input, target, reduction=self.reduction)\n"
     ]
    },
    {
     "name": "stdout",
     "output_type": "stream",
     "text": [
      "Loss after 220835 batches: 0.0878\n",
      "Adjusting learning rate of group 0 to 1.6570e-04.\n"
     ]
    },
    {
     "name": "stderr",
     "output_type": "stream",
     "text": [
      "C:\\Users\\aar245.CORNELL\\Anaconda3\\envs\\mlenv\\lib\\site-packages\\torch\\nn\\modules\\loss.py:446: UserWarning: Using a target size (torch.Size([1, 15])) that is different to the input size (torch.Size([15])). This will likely lead to incorrect results due to broadcasting. Please ensure they have the same size.\n",
      "  return F.mse_loss(input, target, reduction=self.reduction)\n"
     ]
    },
    {
     "name": "stdout",
     "output_type": "stream",
     "text": [
      "Loss after 222358 batches: 0.0872\n",
      "Adjusting learning rate of group 0 to 1.6615e-04.\n"
     ]
    },
    {
     "name": "stderr",
     "output_type": "stream",
     "text": [
      "C:\\Users\\aar245.CORNELL\\Anaconda3\\envs\\mlenv\\lib\\site-packages\\torch\\nn\\modules\\loss.py:446: UserWarning: Using a target size (torch.Size([1, 15])) that is different to the input size (torch.Size([15])). This will likely lead to incorrect results due to broadcasting. Please ensure they have the same size.\n",
      "  return F.mse_loss(input, target, reduction=self.reduction)\n"
     ]
    },
    {
     "name": "stdout",
     "output_type": "stream",
     "text": [
      "Loss after 223881 batches: 0.0863\n",
      "Adjusting learning rate of group 0 to 1.6660e-04.\n"
     ]
    },
    {
     "name": "stderr",
     "output_type": "stream",
     "text": [
      "C:\\Users\\aar245.CORNELL\\Anaconda3\\envs\\mlenv\\lib\\site-packages\\torch\\nn\\modules\\loss.py:446: UserWarning: Using a target size (torch.Size([1, 15])) that is different to the input size (torch.Size([15])). This will likely lead to incorrect results due to broadcasting. Please ensure they have the same size.\n",
      "  return F.mse_loss(input, target, reduction=self.reduction)\n"
     ]
    },
    {
     "name": "stdout",
     "output_type": "stream",
     "text": [
      "Loss after 225404 batches: 0.0870\n",
      "Adjusting learning rate of group 0 to 1.6705e-04.\n"
     ]
    },
    {
     "name": "stderr",
     "output_type": "stream",
     "text": [
      "C:\\Users\\aar245.CORNELL\\Anaconda3\\envs\\mlenv\\lib\\site-packages\\torch\\nn\\modules\\loss.py:446: UserWarning: Using a target size (torch.Size([1, 15])) that is different to the input size (torch.Size([15])). This will likely lead to incorrect results due to broadcasting. Please ensure they have the same size.\n",
      "  return F.mse_loss(input, target, reduction=self.reduction)\n"
     ]
    },
    {
     "name": "stdout",
     "output_type": "stream",
     "text": [
      "Loss after 226927 batches: 0.0874\n",
      "Adjusting learning rate of group 0 to 1.6750e-04.\n"
     ]
    },
    {
     "name": "stderr",
     "output_type": "stream",
     "text": [
      "C:\\Users\\aar245.CORNELL\\Anaconda3\\envs\\mlenv\\lib\\site-packages\\torch\\nn\\modules\\loss.py:446: UserWarning: Using a target size (torch.Size([1, 15])) that is different to the input size (torch.Size([15])). This will likely lead to incorrect results due to broadcasting. Please ensure they have the same size.\n",
      "  return F.mse_loss(input, target, reduction=self.reduction)\n"
     ]
    },
    {
     "name": "stdout",
     "output_type": "stream",
     "text": [
      "Loss after 228450 batches: 0.0870\n",
      "Time to train on one home:  5348.992865562439\n"
     ]
    },
    {
     "data": {
      "text/html": [
       "<br/>Waiting for W&B process to finish, PID 163096<br/>Program ended successfully."
      ],
      "text/plain": [
       "<IPython.core.display.HTML object>"
      ]
     },
     "metadata": {},
     "output_type": "display_data"
    },
    {
     "data": {
      "text/html": [
       "Find user logs for this run at: <code>C:\\Users\\aar245.CORNELL\\Desktop\\Fall2021_new\\wandb\\run-20211012_095507-8tzd23w8\\logs\\debug.log</code>"
      ],
      "text/plain": [
       "<IPython.core.display.HTML object>"
      ]
     },
     "metadata": {},
     "output_type": "display_data"
    },
    {
     "data": {
      "text/html": [
       "Find internal logs for this run at: <code>C:\\Users\\aar245.CORNELL\\Desktop\\Fall2021_new\\wandb\\run-20211012_095507-8tzd23w8\\logs\\debug-internal.log</code>"
      ],
      "text/plain": [
       "<IPython.core.display.HTML object>"
      ]
     },
     "metadata": {},
     "output_type": "display_data"
    },
    {
     "data": {
      "text/html": [
       "<h3>Run summary:</h3><br/><style>\n",
       "    table.wandb td:nth-child(1) { padding: 0 10px; text-align: right }\n",
       "    </style><table class=\"wandb\">\n",
       "<tr><td>Per_House_Training_Loss</td><td>0.08697</td></tr><tr><td>Per_House_Training_R2</td><td>-0.03697</td></tr><tr><td>Per_House_Validation_Loss</td><td>0.14362</td></tr><tr><td>Test_MSE</td><td>0.17608</td></tr><tr><td>Test_Mean_R2_Value</td><td>-0.275</td></tr></table>"
      ],
      "text/plain": [
       "<IPython.core.display.HTML object>"
      ]
     },
     "metadata": {},
     "output_type": "display_data"
    },
    {
     "data": {
      "text/html": [
       "<h3>Run history:</h3><br/><style>\n",
       "    table.wandb td:nth-child(1) { padding: 0 10px; text-align: right }\n",
       "    </style><table class=\"wandb\">\n",
       "<tr><td>Per_House_Training_Loss</td><td>█▆▅▅▄▄▄▃▄▃▃▃▃▃▃▃▃▃▃▂▃▂▂▂▂▂▂▂▂▂▂▁▂▁▁▁▁▁▁▁</td></tr><tr><td>Per_House_Training_R2</td><td>▁▃▃▃▃▄▄▅▄▄▅▅▅▅▅▅▅▆▆▆▅▆▆▇▇▇▇▇▇▇▇▇▇▇▇█████</td></tr><tr><td>Per_House_Validation_Loss</td><td>▇▇█▅▇▄▅▆▄▄▃▃▃▄▄▃▃▂▃▃▃▅▂▂▂▃▅▃▄▁▃▃▁▂▂▂▂▃▂▂</td></tr><tr><td>Test_MSE</td><td>▁</td></tr><tr><td>Test_Mean_R2_Value</td><td>▁</td></tr></table><br/>"
      ],
      "text/plain": [
       "<IPython.core.display.HTML object>"
      ]
     },
     "metadata": {},
     "output_type": "display_data"
    },
    {
     "data": {
      "text/html": [
       "Synced 6 W&B file(s), 0 media file(s), 0 artifact file(s) and 1 other file(s)"
      ],
      "text/plain": [
       "<IPython.core.display.HTML object>"
      ]
     },
     "metadata": {},
     "output_type": "display_data"
    },
    {
     "data": {
      "text/html": [
       "\n",
       "                    <br/>Synced <strong style=\"color:#cdcd00\">lively-terrain-19</strong>: <a href=\"https://wandb.ai/nilm/Overfit_TrainBldg792_TestBldg5192_150epochs_4batch_1Conv_2BiLSTM_w_dropout/runs/8tzd23w8\" target=\"_blank\">https://wandb.ai/nilm/Overfit_TrainBldg792_TestBldg5192_150epochs_4batch_1Conv_2BiLSTM_w_dropout/runs/8tzd23w8</a><br/>\n",
       "                "
      ],
      "text/plain": [
       "<IPython.core.display.HTML object>"
      ]
     },
     "metadata": {},
     "output_type": "display_data"
    }
   ],
   "source": [
    "random.seed(5)\n",
    "for i in test_lengths:\n",
    "    model_4 = model_pipeline(\n",
    "    config,\n",
    "    \"may_june_july\",\n",
    "    'may_june_july',\n",
    "    path,\n",
    "    'air1',\n",
    "    i,\n",
    "    [5192],\n",
    "    [792])\n",
    "    #[792, 950, 1417, 3488, 3517, 4414, 6594],\n",
    "    #[5192])"
   ]
  },
  {
   "cell_type": "code",
   "execution_count": null,
   "metadata": {},
   "outputs": [],
   "source": []
  },
  {
   "cell_type": "code",
   "execution_count": null,
   "metadata": {},
   "outputs": [],
   "source": []
  },
  {
   "cell_type": "code",
   "execution_count": null,
   "metadata": {},
   "outputs": [],
   "source": []
  },
  {
   "cell_type": "code",
   "execution_count": null,
   "metadata": {},
   "outputs": [],
   "source": []
  },
  {
   "cell_type": "code",
   "execution_count": null,
   "metadata": {},
   "outputs": [],
   "source": []
  },
  {
   "cell_type": "code",
   "execution_count": null,
   "metadata": {},
   "outputs": [],
   "source": []
  },
  {
   "cell_type": "code",
   "execution_count": null,
   "metadata": {},
   "outputs": [],
   "source": []
  },
  {
   "cell_type": "code",
   "execution_count": null,
   "metadata": {},
   "outputs": [],
   "source": []
  },
  {
   "cell_type": "code",
   "execution_count": null,
   "metadata": {},
   "outputs": [],
   "source": []
  },
  {
   "cell_type": "code",
   "execution_count": null,
   "metadata": {},
   "outputs": [],
   "source": []
  },
  {
   "cell_type": "code",
   "execution_count": null,
   "metadata": {},
   "outputs": [],
   "source": []
  },
  {
   "cell_type": "code",
   "execution_count": null,
   "metadata": {},
   "outputs": [],
   "source": []
  },
  {
   "cell_type": "code",
   "execution_count": null,
   "metadata": {},
   "outputs": [],
   "source": []
  },
  {
   "cell_type": "code",
   "execution_count": null,
   "metadata": {},
   "outputs": [],
   "source": []
  },
  {
   "cell_type": "code",
   "execution_count": null,
   "metadata": {},
   "outputs": [],
   "source": []
  },
  {
   "cell_type": "code",
   "execution_count": null,
   "metadata": {},
   "outputs": [],
   "source": []
  },
  {
   "cell_type": "code",
   "execution_count": null,
   "metadata": {},
   "outputs": [],
   "source": []
  },
  {
   "cell_type": "code",
   "execution_count": null,
   "metadata": {},
   "outputs": [],
   "source": []
  },
  {
   "cell_type": "code",
   "execution_count": null,
   "metadata": {},
   "outputs": [],
   "source": []
  },
  {
   "cell_type": "code",
   "execution_count": null,
   "metadata": {},
   "outputs": [],
   "source": []
  },
  {
   "cell_type": "code",
   "execution_count": null,
   "metadata": {},
   "outputs": [],
   "source": []
  },
  {
   "cell_type": "code",
   "execution_count": null,
   "metadata": {},
   "outputs": [],
   "source": []
  },
  {
   "cell_type": "code",
   "execution_count": null,
   "metadata": {},
   "outputs": [],
   "source": []
  },
  {
   "cell_type": "code",
   "execution_count": null,
   "metadata": {},
   "outputs": [],
   "source": []
  },
  {
   "cell_type": "code",
   "execution_count": null,
   "metadata": {},
   "outputs": [],
   "source": []
  },
  {
   "cell_type": "code",
   "execution_count": 73,
   "metadata": {},
   "outputs": [],
   "source": [
    "homes = load_all_houses_with_device(path, 'air1')"
   ]
  },
  {
   "cell_type": "code",
   "execution_count": 74,
   "metadata": {},
   "outputs": [],
   "source": [
    "home1 = homes.loc[homes['dataid'] == 792]"
   ]
  },
  {
   "cell_type": "code",
   "execution_count": 75,
   "metadata": {},
   "outputs": [],
   "source": [
    "home2 = homes.loc[homes['dataid'] == 5192]"
   ]
  },
  {
   "cell_type": "code",
   "execution_count": 76,
   "metadata": {},
   "outputs": [],
   "source": [
    "std1 = np.std(home1['net_power'])"
   ]
  },
  {
   "cell_type": "code",
   "execution_count": 77,
   "metadata": {},
   "outputs": [],
   "source": [
    "std2 = np.std(home2['net_power'])"
   ]
  },
  {
   "cell_type": "code",
   "execution_count": 78,
   "metadata": {},
   "outputs": [],
   "source": [
    "x1 = (home1['net_power'] - np.mean(home1['net_power']))/std1"
   ]
  },
  {
   "cell_type": "code",
   "execution_count": 79,
   "metadata": {},
   "outputs": [],
   "source": [
    "x2 = (home2['net_power'] - np.mean(home2['net_power']))/std2"
   ]
  },
  {
   "cell_type": "code",
   "execution_count": 88,
   "metadata": {},
   "outputs": [
    {
     "data": {
      "text/plain": [
       "Text(0, 0.5, 'Frequency')"
      ]
     },
     "execution_count": 88,
     "metadata": {},
     "output_type": "execute_result"
    },
    {
     "data": {
      "image/png": "[encoded data removed]",
      "text/plain": [
       "<Figure size 432x288 with 1 Axes>"
      ]
     },
     "metadata": {
      "needs_background": "light"
     },
     "output_type": "display_data"
    }
   ],
   "source": [
    "plt.hist(x1, bins = 50)\n",
    "plt.hist(x2, bins = 50)\n",
    "plt.legend([\"Home792\", \"Home5192\"])\n",
    "plt.xlabel(\"Batch standardized input\")\n",
    "plt.ylabel(\"Frequency\")"
   ]
  },
  {
   "cell_type": "code",
   "execution_count": 85,
   "metadata": {},
   "outputs": [],
   "source": [
    "y1 = (home1['appliance_power'] - np.min(home1['appliance_power']))/(np.max(home1['appliance_power']) - np.min(home1['appliance_power']))"
   ]
  },
  {
   "cell_type": "code",
   "execution_count": 86,
   "metadata": {},
   "outputs": [],
   "source": [
    "y2 = (home2['appliance_power'] - np.min(home2['appliance_power']))/(np.max(home2['appliance_power']) - np.min(home2['appliance_power']))"
   ]
  },
  {
   "cell_type": "code",
   "execution_count": 96,
   "metadata": {},
   "outputs": [
    {
     "data": {
      "text/plain": [
       "Text(0, 0.5, 'Frequency')"
      ]
     },
     "execution_count": 96,
     "metadata": {},
     "output_type": "execute_result"
    },
    {
     "data": {
      "image/png": "[encoded data removed]",
      "text/plain": [
       "<Figure size 432x288 with 1 Axes>"
      ]
     },
     "metadata": {
      "needs_background": "light"
     },
     "output_type": "display_data"
    }
   ],
   "source": [
    "plt.hist(y1, bins = 50)\n",
    "plt.hist(y2, bins = 50)\n",
    "plt.legend([\"House792\", \"House5192\"])\n",
    "plt.xlabel(\"Batch normalized output\")\n",
    "plt.ylabel(\"Frequency\")"
   ]
  },
  {
   "cell_type": "code",
   "execution_count": 100,
   "metadata": {},
   "outputs": [],
   "source": [
    "y1_on = [i for i in y1 if i > 0.02]"
   ]
  },
  {
   "cell_type": "code",
   "execution_count": 99,
   "metadata": {},
   "outputs": [],
   "source": [
    "y2_on = [i for i in y2 if i > 0.02]"
   ]
  },
  {
   "cell_type": "code",
   "execution_count": 103,
   "metadata": {},
   "outputs": [
    {
     "data": {
      "text/plain": [
       "Text(0, 0.5, 'Frequency')"
      ]
     },
     "execution_count": 103,
     "metadata": {},
     "output_type": "execute_result"
    },
    {
     "data": {
      "image/png": "[encoded data removed]",
      "text/plain": [
       "<Figure size 432x288 with 1 Axes>"
      ]
     },
     "metadata": {
      "needs_background": "light"
     },
     "output_type": "display_data"
    }
   ],
   "source": [
    "plt.hist(y1_on, bins = 50)\n",
    "plt.hist(y2_on, bins = 50)\n",
    "plt.legend([\"House792\", \"House5192\"])\n",
    "plt.xlabel(\"Batch normalized output\")\n",
    "plt.ylabel(\"Frequency\")"
   ]
  },
  {
   "cell_type": "code",
   "execution_count": null,
   "metadata": {},
   "outputs": [],
   "source": []
  },
  {
   "cell_type": "code",
   "execution_count": null,
   "metadata": {},
   "outputs": [],
   "source": []
  },
  {
   "cell_type": "code",
   "execution_count": null,
   "metadata": {},
   "outputs": [],
   "source": []
  },
  {
   "cell_type": "code",
   "execution_count": null,
   "metadata": {},
   "outputs": [],
   "source": []
  },
  {
   "cell_type": "code",
   "execution_count": null,
   "metadata": {},
   "outputs": [],
   "source": []
  },
  {
   "cell_type": "code",
   "execution_count": null,
   "metadata": {},
   "outputs": [],
   "source": []
  },
  {
   "cell_type": "code",
   "execution_count": null,
   "metadata": {},
   "outputs": [],
   "source": []
  },
  {
   "cell_type": "code",
   "execution_count": null,
   "metadata": {},
   "outputs": [],
   "source": []
  },
  {
   "cell_type": "code",
   "execution_count": null,
   "metadata": {},
   "outputs": [],
   "source": []
  },
  {
   "cell_type": "code",
   "execution_count": null,
   "metadata": {},
   "outputs": [],
   "source": [
    "def mean_relative_error_in_total_energy(true, predicted):\n",
    "    #true = np.array(true)\n",
    "    #predicted = np.array(predicted)\n",
    "    abs_diff = abs(predicted - true)\n",
    "    maximum = torch.maximum(abs(true), abs(predicted))\n",
    "    return torch.mean(abs_diff/maximum)"
   ]
  },
  {
   "cell_type": "code",
   "execution_count": null,
   "metadata": {},
   "outputs": [],
   "source": [
    "mean_relative_error_in_total_energy(torch.tensor(true_vals[0][2]), torch.tensor(predictions[0][2]))"
   ]
  },
  {
   "cell_type": "code",
   "execution_count": null,
   "metadata": {},
   "outputs": [],
   "source": [
    "np.mean(abs(predictions[0][2] - true_vals[0][2]))/sum(true_vals[0][2])"
   ]
  },
  {
   "cell_type": "code",
   "execution_count": null,
   "metadata": {},
   "outputs": [],
   "source": [
    "sum(true_vals[0][2])"
   ]
  },
  {
   "cell_type": "code",
   "execution_count": null,
   "metadata": {},
   "outputs": [],
   "source": [
    "r2 = 0.0\n",
    "for i in range(len(predictions[0])):\n",
    "    r2 += metrics.r2_score(torch.tensor(true_vals[0][i]).cpu().detach().numpy(), torch.tensor(predictions[0][i]).cpu().detach().numpy())"
   ]
  },
  {
   "cell_type": "code",
   "execution_count": null,
   "metadata": {},
   "outputs": [],
   "source": [
    "r2/len(predictions[0])"
   ]
  },
  {
   "cell_type": "code",
   "execution_count": null,
   "metadata": {},
   "outputs": [],
   "source": [
    "metrics.r2_score(torch.tensor([0,1,2,3]), torch.tensor([2,3,4,5]))"
   ]
  },
  {
   "cell_type": "code",
   "execution_count": null,
   "metadata": {},
   "outputs": [],
   "source": []
  },
  {
   "cell_type": "code",
   "execution_count": null,
   "metadata": {},
   "outputs": [],
   "source": []
  },
  {
   "cell_type": "code",
   "execution_count": null,
   "metadata": {},
   "outputs": [],
   "source": []
  },
  {
   "cell_type": "code",
   "execution_count": null,
   "metadata": {},
   "outputs": [],
   "source": []
  },
  {
   "cell_type": "code",
   "execution_count": null,
   "metadata": {},
   "outputs": [],
   "source": [
    "houses = separate_by_house(path, 'air1')"
   ]
  },
  {
   "cell_type": "code",
   "execution_count": null,
   "metadata": {},
   "outputs": [],
   "source": [
    "len(houses[6594])"
   ]
  },
  {
   "cell_type": "code",
   "execution_count": null,
   "metadata": {},
   "outputs": [],
   "source": []
  },
  {
   "cell_type": "code",
   "execution_count": null,
   "metadata": {},
   "outputs": [],
   "source": []
  },
  {
   "cell_type": "code",
   "execution_count": null,
   "metadata": {},
   "outputs": [],
   "source": [
    "test_inputs = []\n",
    "predictions = []\n",
    "true_vals = []"
   ]
  },
  {
   "cell_type": "code",
   "execution_count": null,
   "metadata": {},
   "outputs": [],
   "source": [
    "model_4.cpu()"
   ]
  },
  {
   "cell_type": "code",
   "execution_count": null,
   "metadata": {},
   "outputs": [],
   "source": [
    "total_r2_count = 0.0\n",
    "for i, (inputs, outputs) in enumerate(test_loader):\n",
    "    inputs, outputs = inputs.cpu(), outputs.cpu()\n",
    "    prediction = model_4(inputs)\n",
    "    \n",
    "    predictions.append(prediction.detach().numpy())\n",
    "    true_vals.append(outputs.detach().numpy())\n",
    "    test_inputs.append(inputs)"
   ]
  },
  {
   "cell_type": "code",
   "execution_count": null,
   "metadata": {},
   "outputs": [],
   "source": [
    "len(predictions)"
   ]
  },
  {
   "cell_type": "code",
   "execution_count": null,
   "metadata": {},
   "outputs": [],
   "source": [
    "plt.plot(predictions[6][3])\n",
    "plt.plot(true_vals[6][3])\n",
    "plt.legend(['prediction', 'true'])\n",
    "#plt.plot(test_inputs[0][2])"
   ]
  },
  {
   "cell_type": "code",
   "execution_count": null,
   "metadata": {},
   "outputs": [],
   "source": []
  },
  {
   "cell_type": "code",
   "execution_count": null,
   "metadata": {},
   "outputs": [],
   "source": [
    "flat_list = [i for subitems in predictions for i in subitems]"
   ]
  },
  {
   "cell_type": "code",
   "execution_count": null,
   "metadata": {},
   "outputs": [],
   "source": [
    "flat_list = [i for subitems in flat_list for i in subitems]"
   ]
  },
  {
   "cell_type": "code",
   "execution_count": null,
   "metadata": {},
   "outputs": [],
   "source": [
    "plt.plot(flat_list)"
   ]
  },
  {
   "cell_type": "code",
   "execution_count": null,
   "metadata": {},
   "outputs": [],
   "source": [
    "flat_list_2 = [i for subitems in true_vals for i in subitems]"
   ]
  },
  {
   "cell_type": "code",
   "execution_count": null,
   "metadata": {},
   "outputs": [],
   "source": [
    "flat_list_2 = [i for subitems in flat_list_2 for i in subitems]"
   ]
  },
  {
   "cell_type": "code",
   "execution_count": null,
   "metadata": {},
   "outputs": [],
   "source": [
    "plt.scatter(flat_list_2, flat_list)\n",
    "plt.plot(flat_list_2, flat_list_2)\n",
    "plt.xlabel(\"Normalized True Values\")\n",
    "plt.ylabel(\"Normalized Predictions\")\n",
    "plt.title(\"Train:792,950,1417, Test:5192, window=15\")"
   ]
  },
  {
   "cell_type": "code",
   "execution_count": null,
   "metadata": {},
   "outputs": [],
   "source": [
    "flat_list_3 = [i for subitems in test_inputs for i in subitems]"
   ]
  },
  {
   "cell_type": "code",
   "execution_count": null,
   "metadata": {},
   "outputs": [],
   "source": [
    "flat_list_3 = [i for subitems in flat_list_3 for i in subitems]"
   ]
  },
  {
   "cell_type": "code",
   "execution_count": null,
   "metadata": {},
   "outputs": [],
   "source": [
    "plt.scatter(flat_list_2, flat_list_3)"
   ]
  },
  {
   "cell_type": "code",
   "execution_count": null,
   "metadata": {},
   "outputs": [],
   "source": []
  },
  {
   "cell_type": "code",
   "execution_count": null,
   "metadata": {},
   "outputs": [],
   "source": [
    "test_dataset = PecanStreetDataset_test(r\"C:\\Users\\aar245.CORNELL\\Desktop\\Fall2021_new\\ithaca_Real_2019\\1min_real_may_june_july2019.csv\", 'air1', 15, [5192])"
   ]
  },
  {
   "cell_type": "code",
   "execution_count": null,
   "metadata": {},
   "outputs": [],
   "source": [
    "test_loader = DataLoader(dataset=test_dataset, batch_size=config['batch_size'], shuffle = False, num_workers=0)"
   ]
  },
  {
   "cell_type": "code",
   "execution_count": null,
   "metadata": {},
   "outputs": [],
   "source": [
    "test_dataset.x[0][10]"
   ]
  },
  {
   "cell_type": "code",
   "execution_count": null,
   "metadata": {},
   "outputs": [],
   "source": [
    "predictions"
   ]
  },
  {
   "cell_type": "code",
   "execution_count": null,
   "metadata": {},
   "outputs": [],
   "source": []
  }
 ],
 "metadata": {
  "kernelspec": {
   "display_name": "mlenv",
   "language": "python",
   "name": "mlenv"
  },
  "language_info": {
   "codemirror_mode": {
    "name": "ipython",
    "version": 3
   },
   "file_extension": ".py",
   "mimetype": "text/x-python",
   "name": "python",
   "nbconvert_exporter": "python",
   "pygments_lexer": "ipython3",
   "version": "3.8.5"
  }
 },
 "nbformat": 4,
 "nbformat_minor": 4
}
